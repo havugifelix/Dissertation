{
 "cells": [
  {
   "cell_type": "code",
   "execution_count": 1,
   "id": "f6d48345",
   "metadata": {},
   "outputs": [],
   "source": [
    "import numpy as np\n",
    "from matplotlib import pyplot as plt\n",
    "import cv2\n",
    "import os\n",
    "from tqdm import tqdm"
   ]
  },
  {
   "cell_type": "code",
   "execution_count": 2,
   "id": "384824f0",
   "metadata": {},
   "outputs": [],
   "source": [
    "path = \"/media/kashraf/Elements/Dissertation/data/preprocessed/audio/topomaps/\""
   ]
  },
  {
   "cell_type": "code",
   "execution_count": 3,
   "id": "1ebe1424",
   "metadata": {},
   "outputs": [],
   "source": [
    "# alpha_path = os.path.join(path,\"alpha\",\"full\")\n",
    "# theta_path = os.path.join(path,\"theta\",\"full\")\n",
    "# beta_path = os.path.join(path,\"beta\",\"full\")"
   ]
  },
  {
   "cell_type": "code",
   "execution_count": 4,
   "id": "2f6e999a",
   "metadata": {},
   "outputs": [],
   "source": [
    "class stacker:\n",
    "    def __init__(self,t_path,a_path,b_path,cl_level):\n",
    "        self.cl_level = cl_level\n",
    "        self.t_path = os.path.join (t_path,cl_level)\n",
    "        self.a_path =  os.path.join (a_path,cl_level)\n",
    "        self.b_path =  os.path.join (b_path,cl_level)\n",
    "        self.cl_level = cl_level\n",
    "        \n",
    "    def get_f_paths (self):\n",
    "        fnames = os.listdir(self.t_path)\n",
    "        alpha_paths = [os.path.join(self.a_path,f) for f in fnames]\n",
    "        theta_paths = [os.path.join(self.t_path,f) for f in fnames]\n",
    "        beta_paths = [os.path.join(self.b_path,f) for f in fnames]\n",
    "        \n",
    "        return (theta_paths,alpha_paths,beta_paths)\n",
    "    \n",
    "    def stack_and_save(self,interval,path):\n",
    "        t_paths,a_paths,b_paths = self.get_f_paths ()\n",
    "        for i in tqdm(range(len(t_paths))):\n",
    "            imt,ima, imb = np.load(t_paths[i])[interval-1], np.load(a_paths[i])[interval-1], np.load(b_paths[i])[interval-1]\n",
    "            imt,ima,imb = cv2.cvtColor(imt,cv2.COLOR_RGB2GRAY),cv2.cvtColor(ima,cv2.COLOR_RGB2GRAY),cv2.cvtColor(imb,cv2.COLOR_RGB2GRAY)\n",
    "            stacked = stacked=np.dstack([imb,imt,ima])\n",
    "            stacked= cv2.cvtColor(stacked, cv2.COLOR_BGR2RGB)\n",
    "            \n",
    "            # Save the stacked images\n",
    "            dest_path = os.path.join(path,\"interv\"+str(interval),self.cl_level,t_paths[i][-22:-4]+\".png\")\n",
    "            plt.imsave (dest_path,stacked)\n",
    "            \n",
    "    def stack_normal(self,path,size = (224,224)):\n",
    "        t_paths,a_paths,b_paths = self.get_f_paths ()\n",
    "        for i in tqdm(range(len(t_paths))):\n",
    "            imt,ima,imb = cv2.imread(t_paths[i]),cv2.imread(a_paths[i]),cv2.imread(b_paths[i])\n",
    "            imt,ima,imb = cv2.resize(imt,size),cv2.resize(ima,size),cv2.resize(ima,size)\n",
    "            imt =cv2.cvtColor(imt,cv2.COLOR_RGB2GRAY)\n",
    "            ima =cv2.cvtColor(ima,cv2.COLOR_RGB2GRAY)\n",
    "            imb =cv2.cvtColor(imb,cv2.COLOR_RGB2GRAY)\n",
    "            stacked=np.dstack([imt,ima,imb])\n",
    "            dest_path = os.path.join(path,self.cl_level,a_paths[i][a_paths[i].index(\"Sub\"):])\n",
    "#             print(a_paths[i][-33:])\n",
    "            plt.imsave(dest_path,stacked)\n",
    "        \n",
    "        \n",
    "            \n",
    "        \n",
    "        \n",
    "        "
   ]
  },
  {
   "cell_type": "code",
   "execution_count": 11,
   "id": "6ea26aa0",
   "metadata": {},
   "outputs": [
    {
     "name": "stderr",
     "output_type": "stream",
     "text": [
      "100%|███████████████████████████████████████| 5500/5500 [04:58<00:00, 18.45it/s]\n",
      "100%|███████████████████████████████████████| 5500/5500 [06:15<00:00, 14.66it/s]\n",
      "100%|███████████████████████████████████████| 5500/5500 [05:53<00:00, 15.56it/s]\n",
      "100%|███████████████████████████████████████| 5500/5500 [05:30<00:00, 16.66it/s]\n"
     ]
    }
   ],
   "source": [
    "alpha_path = \"/media/kashraf/Elements/Dissertation/data/preprocessed/audio/alpha/interv7/full\"\n",
    "theta_path = \"/media/kashraf/Elements/Dissertation/data/preprocessed/audio/theta/interv7/full\"\n",
    "beta_path = \"/media/kashraf/Elements/Dissertation/data/preprocessed/audio/beta/interv7/full\"\n",
    "\n",
    "dest_path = \"/media/kashraf/Elements/Dissertation/data/preprocessed/audio/stack/interv7/\"\n",
    "stack2= stacker(theta_path,alpha_path,beta_path,\"cl2\")\n",
    "stack4= stacker(theta_path,alpha_path,beta_path,\"cl4\")\n",
    "stack6= stacker(theta_path,alpha_path,beta_path,\"cl6\")\n",
    "stack8= stacker(theta_path,alpha_path,beta_path,\"cl8\")\n",
    "\n",
    "stack2.stack_normal(dest_path)\n",
    "stack4.stack_normal(dest_path)\n",
    "stack6.stack_normal(dest_path)\n",
    "stack8.stack_normal(dest_path)\n"
   ]
  },
  {
   "cell_type": "code",
   "execution_count": null,
   "id": "46b7de2d",
   "metadata": {},
   "outputs": [],
   "source": [
    "stack.get_f_paths()[1][0][-20:]"
   ]
  },
  {
   "cell_type": "code",
   "execution_count": null,
   "id": "99e5baa3",
   "metadata": {},
   "outputs": [],
   "source": [
    "stack.get_f_paths()[0][0][-20:]"
   ]
  },
  {
   "cell_type": "code",
   "execution_count": null,
   "id": "62c11cc0",
   "metadata": {},
   "outputs": [],
   "source": [
    "size = (224,224)\n",
    "stack= stacker(theta_path,alpha_path,beta_path,\"cl2\")\n",
    "t,a,b= stack.get_f_paths()[0][0],stack.get_f_paths()[1][0],stack.get_f_paths()[2][0]\n",
    "imt,ima,imb = cv2.imread(t),cv2.imread(a),cv2.imread(b)\n",
    "imt,ima,imb =cv2.resize(imt,size),cv2.resize(ima,size),cv2.resize(ima,size)\n",
    "imt =cv2.cvtColor(imt,cv2.COLOR_RGB2GRAY)\n",
    "ima =cv2.cvtColor(ima,cv2.COLOR_RGB2GRAY)\n",
    "imb =cv2.cvtColor(imb,cv2.COLOR_RGB2GRAY)\n",
    "stacked=np.dstack((imt,ima,imb))\n",
    "# stacked= cv2.cvtColor(stacked, cv2.COLOR_RGB2BGR)\n",
    "\n",
    "\n",
    "plt.imshow(stacked)\n",
    "# # plt.subplots_adjust(left=-0.45, right=0.9, top=0.9, bottom=0.6)\n",
    "# plt.axis(\"off\")\n",
    "# plt.savefig(\"TESt.png\",pad_inches=0,bbox_inches=\"tight\")"
   ]
  },
  {
   "cell_type": "code",
   "execution_count": null,
   "id": "8b647b2d",
   "metadata": {},
   "outputs": [],
   "source": [
    "imt.shape"
   ]
  },
  {
   "cell_type": "code",
   "execution_count": null,
   "id": "9715306b",
   "metadata": {},
   "outputs": [],
   "source": [
    "stack.get_f_paths()[1][0]"
   ]
  },
  {
   "cell_type": "code",
   "execution_count": null,
   "id": "5eb29cbb",
   "metadata": {
    "scrolled": true
   },
   "outputs": [],
   "source": [
    "path=\"/media/kashraf/Elements/Dissertation/data/preprocessed/visual/topomaps/stacked/cl2/Sub_10CL_2_0.png\"\n",
    "img= cv2.imread(path)\n",
    "up,left = 23,105\n",
    "dy,dx= 230,232\n",
    "img1 = img[up:up+dy,left:left+dx]\n",
    "plt.imshow(img1)\n",
    "plt.axis(\"off\")\n",
    "plt.savefig(\"cropped.png\",pad_inches=0,bbox_inches=\"tight\")"
   ]
  },
  {
   "cell_type": "code",
   "execution_count": null,
   "id": "b61d8095",
   "metadata": {},
   "outputs": [],
   "source": [
    "ima==imt"
   ]
  }
 ],
 "metadata": {
  "kernelspec": {
   "display_name": "Python 3 (ipykernel)",
   "language": "python",
   "name": "python3"
  },
  "language_info": {
   "codemirror_mode": {
    "name": "ipython",
    "version": 3
   },
   "file_extension": ".py",
   "mimetype": "text/x-python",
   "name": "python",
   "nbconvert_exporter": "python",
   "pygments_lexer": "ipython3",
   "version": "3.8.10"
  }
 },
 "nbformat": 4,
 "nbformat_minor": 5
}
