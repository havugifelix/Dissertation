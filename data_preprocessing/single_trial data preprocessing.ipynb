{
 "cells": [
  {
   "cell_type": "code",
   "execution_count": 2,
   "metadata": {},
   "outputs": [
    {
     "data": {
      "text/plain": [
       "<RawCNT  |  S02_v Data.cnt, n_channels x n_times : 64 x 525925 (2103.7 sec), ~277.0 MB, data loaded>"
      ]
     },
     "execution_count": 2,
     "metadata": {},
     "output_type": "execute_result"
    }
   ],
   "source": [
    "import mne\n",
    "import os\n",
    "import pywt\n",
    "from skimage.restoration import denoise_wavelet\n",
    "import warnings\n",
    "warnings.filterwarnings('ignore')\n",
    "from os.path import abspath\n",
    "import matplotlib.pyplot as plt\n",
    "import numpy as np\n",
    "import pandas as pd\n",
    "from mne.time_frequency import psd_welch\n",
    "from tqdm import tqdm\n",
    "import itertools\n",
    "import pickle \n",
    "from multiprocessing import Process\n",
    "file_path=\"/media/kashraf/Elements/Dissertation/data/CVPIA_eeg/Data/Filtered/S2/\"\n",
    "filename=os.listdir(file_path)\n",
    "path_montage=\"/media/kashraf/Elements/data_gen_may_2021/montage/\"\n",
    "montage=mne.channels.read_montage(path_montage+\"//\"+\"neuroscan64ch.loc\")\n",
    "data1=mne.io.read_raw_cnt(file_path+\"S02_v Data.cnt\",montage=montage, \n",
    "                         preload=True,verbose=False);\n",
    "\n",
    "good_ch= mne.pick_channels(data1.info['ch_names'], include=[],\n",
    "                        exclude=[\"EKG\",\"EMG\",'VEO','HEO','Trigger'])\n",
    "mne.pick_info(data1.info,sel=good_ch,copy=False,verbose=False)\n",
    "data1.set_montage(montage)\n",
    "mne.pick_info(data1.info,sel=good_ch,copy=False)\n",
    "data1.set_montage(montage)"
   ]
  },
  {
   "cell_type": "code",
   "execution_count": 3,
   "metadata": {},
   "outputs": [
    {
     "data": {
      "text/plain": [
       "<RawCNT  |  S02_v Data.cnt, n_channels x n_times : 64 x 525925 (2103.7 sec), ~277.0 MB, data loaded>"
      ]
     },
     "execution_count": 3,
     "metadata": {},
     "output_type": "execute_result"
    }
   ],
   "source": [
    "data1"
   ]
  },
  {
   "cell_type": "code",
   "execution_count": 4,
   "metadata": {},
   "outputs": [],
   "source": [
    "def read_load_type(data_path,dest_path=None,stim_type=None):\n",
    "    folders = os.listdir(data_path)\n",
    "    audio,visual, audio_visual = [],[],[]\n",
    "    for folder in folders: \n",
    "        fnames = os.listdir(os.path.join(data_path,folder))\n",
    "        # Let's go through the folders\n",
    "        for f in fnames:\n",
    "            if f.endswith(\"a Data.cnt\"):\n",
    "                audio.append(os.path.join(data_path,folder,f))\n",
    "            elif f.endswith(\"av Data.cnt\"):\n",
    "                audio_visual.append(os.path.join(data_path,folder,f))\n",
    "                \n",
    "            elif f.endswith(\"v Data.cnt\"):\n",
    "                visual.append(os.path.join(data_path,folder,f))\n",
    "    return audio,audio_visual,visual\n",
    "                \n",
    "                \n",
    "path = \"/media/kashraf/Elements/Dissertation/data/CVPIA_eeg/Data/Filtered\"\n",
    "a,av,v=read_load_type(path)"
   ]
  },
  {
   "cell_type": "code",
   "execution_count": 5,
   "metadata": {},
   "outputs": [
    {
     "name": "stderr",
     "output_type": "stream",
     "text": [
      "100%|████████████████████████████████████████████████████████████████████████████████████████████████████████████████████████████████████████████| 14/14 [00:52<00:00,  3.74s/it]\n"
     ]
    }
   ],
   "source": [
    "import shutil\n",
    "dest_path=\"/media/kashraf/Elements/Dissertation/data/CVPIA_eeg/Data/Cnt_files\"\n",
    "for file in tqdm(av):\n",
    "    shutil.copy(file,os.path.join(dest_path,\"audio-visual\",file[-15:]))\n",
    "    "
   ]
  },
  {
   "cell_type": "code",
   "execution_count": 6,
   "metadata": {},
   "outputs": [
    {
     "data": {
      "text/plain": [
       "'S01_av Data.cnt'"
      ]
     },
     "execution_count": 6,
     "metadata": {},
     "output_type": "execute_result"
    }
   ],
   "source": [
    "av[0][-15:]"
   ]
  },
  {
   "cell_type": "markdown",
   "metadata": {},
   "source": [
    "## Loading the data"
   ]
  },
  {
   "cell_type": "code",
   "execution_count": 7,
   "metadata": {},
   "outputs": [
    {
     "name": "stderr",
     "output_type": "stream",
     "text": [
      "100%|████████████████████████████████████████████████████████████████████████████████████████████████████████████████████████████████████████████| 11/11 [01:38<00:00,  8.93s/it]\n"
     ]
    },
    {
     "name": "stdout",
     "output_type": "stream",
     "text": [
      "Events and id: (array([[   540,      0,      3],\n",
      "       [  2597,      0,      3],\n",
      "       [  2997,      0,      3],\n",
      "       ...,\n",
      "       [844071,      0,      2],\n",
      "       [845848,      0,     10],\n",
      "       [846333,      0,     22]]), {'22': 1, '24': 2, '255': 3, '26': 4, '28': 5, '31': 6, '32': 7, '33': 8, '34': 9, '35': 10, '36': 11, '37': 12, '38': 13, '39': 14, '40': 15, '41': 16, '42': 17, '43': 18, '44': 19, '45': 20, '51': 21, '52': 22})\n"
     ]
    }
   ],
   "source": [
    "visual=[mne.io.read_raw_cnt(file,preload=True,verbose=0)\n",
    "             for file in tqdm(a)]\n",
    "bad_chs=[\"EKG\",\"EMG\",'VEO','HEO','Trigger']\n",
    "\n",
    "for f in visual:\n",
    "    f.drop_channels(bad_chs)\n",
    "    mne.pick_info(f.info,sel=good_ch,copy=False)\n",
    "    f.set_montage(montage,verbose=False)\n",
    "    \n",
    "events=mne.events_from_annotations(visual[0],verbose=False)  \n",
    "info=visual[0].info\n",
    "event_id=events[1]\n",
    "\n",
    "print(\"Events and id:\",events)\n"
   ]
  },
  {
   "cell_type": "markdown",
   "metadata": {},
   "source": [
    "### Building dataset\n"
   ]
  },
  {
   "cell_type": "code",
   "execution_count": 8,
   "metadata": {
    "scrolled": false
   },
   "outputs": [
    {
     "name": "stdout",
     "output_type": "stream",
     "text": [
      "63 matching events found\n",
      "Applying baseline correction (mode: mean)\n",
      "Not setting metadata\n",
      "0 projection items activated\n",
      "Loading data for 63 events and 176 original time points ...\n",
      "0 bad epochs dropped\n",
      "55 matching events found\n",
      "Applying baseline correction (mode: mean)\n",
      "Not setting metadata\n",
      "0 projection items activated\n",
      "Loading data for 55 events and 176 original time points ...\n",
      "0 bad epochs dropped\n",
      "74 matching events found\n",
      "Applying baseline correction (mode: mean)\n",
      "Not setting metadata\n",
      "0 projection items activated\n",
      "Loading data for 74 events and 176 original time points ...\n",
      "0 bad epochs dropped\n",
      "48 matching events found\n",
      "Applying baseline correction (mode: mean)\n",
      "Not setting metadata\n",
      "0 projection items activated\n",
      "Loading data for 48 events and 176 original time points ...\n",
      "0 bad epochs dropped\n",
      "63 matching events found\n",
      "Applying baseline correction (mode: mean)\n",
      "Not setting metadata\n",
      "0 projection items activated\n",
      "Loading data for 63 events and 176 original time points ...\n",
      "2 bad epochs dropped\n",
      "55 matching events found\n",
      "Applying baseline correction (mode: mean)\n",
      "Not setting metadata\n",
      "0 projection items activated\n",
      "Loading data for 55 events and 176 original time points ...\n",
      "1 bad epochs dropped\n",
      "74 matching events found\n",
      "Applying baseline correction (mode: mean)\n",
      "Not setting metadata\n",
      "0 projection items activated\n",
      "Loading data for 74 events and 176 original time points ...\n",
      "3 bad epochs dropped\n",
      "48 matching events found\n",
      "Applying baseline correction (mode: mean)\n",
      "Not setting metadata\n",
      "0 projection items activated\n",
      "Loading data for 48 events and 176 original time points ...\n",
      "5 bad epochs dropped\n",
      "63 matching events found\n",
      "Applying baseline correction (mode: mean)\n",
      "Not setting metadata\n",
      "0 projection items activated\n",
      "Loading data for 63 events and 176 original time points ...\n",
      "0 bad epochs dropped\n",
      "55 matching events found\n",
      "Applying baseline correction (mode: mean)\n",
      "Not setting metadata\n",
      "0 projection items activated\n",
      "Loading data for 55 events and 176 original time points ...\n",
      "1 bad epochs dropped\n",
      "74 matching events found\n",
      "Applying baseline correction (mode: mean)\n",
      "Not setting metadata\n",
      "0 projection items activated\n",
      "Loading data for 74 events and 176 original time points ...\n",
      "0 bad epochs dropped\n",
      "48 matching events found\n",
      "Applying baseline correction (mode: mean)\n",
      "Not setting metadata\n",
      "0 projection items activated\n",
      "Loading data for 48 events and 176 original time points ...\n",
      "0 bad epochs dropped\n",
      "63 matching events found\n",
      "Applying baseline correction (mode: mean)\n",
      "Not setting metadata\n",
      "0 projection items activated\n",
      "Loading data for 63 events and 176 original time points ...\n",
      "2 bad epochs dropped\n",
      "55 matching events found\n",
      "Applying baseline correction (mode: mean)\n",
      "Not setting metadata\n",
      "0 projection items activated\n",
      "Loading data for 55 events and 176 original time points ...\n",
      "1 bad epochs dropped\n",
      "74 matching events found\n",
      "Applying baseline correction (mode: mean)\n",
      "Not setting metadata\n",
      "0 projection items activated\n",
      "Loading data for 74 events and 176 original time points ...\n",
      "3 bad epochs dropped\n",
      "48 matching events found\n",
      "Applying baseline correction (mode: mean)\n",
      "Not setting metadata\n",
      "0 projection items activated\n",
      "Loading data for 48 events and 176 original time points ...\n",
      "4 bad epochs dropped\n",
      "63 matching events found\n",
      "Applying baseline correction (mode: mean)\n",
      "Not setting metadata\n",
      "0 projection items activated\n",
      "Loading data for 63 events and 176 original time points ...\n",
      "2 bad epochs dropped\n",
      "55 matching events found\n",
      "Applying baseline correction (mode: mean)\n",
      "Not setting metadata\n",
      "0 projection items activated\n",
      "Loading data for 55 events and 176 original time points ...\n",
      "1 bad epochs dropped\n",
      "74 matching events found\n",
      "Applying baseline correction (mode: mean)\n",
      "Not setting metadata\n",
      "0 projection items activated\n",
      "Loading data for 74 events and 176 original time points ...\n",
      "2 bad epochs dropped\n",
      "48 matching events found\n",
      "Applying baseline correction (mode: mean)\n",
      "Not setting metadata\n",
      "0 projection items activated\n",
      "Loading data for 48 events and 176 original time points ...\n",
      "4 bad epochs dropped\n",
      "63 matching events found\n",
      "Applying baseline correction (mode: mean)\n",
      "Not setting metadata\n",
      "0 projection items activated\n",
      "Loading data for 63 events and 176 original time points ...\n",
      "0 bad epochs dropped\n",
      "55 matching events found\n",
      "Applying baseline correction (mode: mean)\n",
      "Not setting metadata\n",
      "0 projection items activated\n",
      "Loading data for 55 events and 176 original time points ...\n",
      "0 bad epochs dropped\n",
      "74 matching events found\n",
      "Applying baseline correction (mode: mean)\n",
      "Not setting metadata\n",
      "0 projection items activated\n",
      "Loading data for 74 events and 176 original time points ...\n",
      "0 bad epochs dropped\n",
      "48 matching events found\n",
      "Applying baseline correction (mode: mean)\n",
      "Not setting metadata\n",
      "0 projection items activated\n",
      "Loading data for 48 events and 176 original time points ...\n",
      "0 bad epochs dropped\n",
      "63 matching events found\n",
      "Applying baseline correction (mode: mean)\n",
      "Not setting metadata\n",
      "0 projection items activated\n",
      "Loading data for 63 events and 176 original time points ...\n",
      "2 bad epochs dropped\n",
      "55 matching events found\n",
      "Applying baseline correction (mode: mean)\n",
      "Not setting metadata\n",
      "0 projection items activated\n",
      "Loading data for 55 events and 176 original time points ...\n",
      "1 bad epochs dropped\n",
      "74 matching events found\n",
      "Applying baseline correction (mode: mean)\n",
      "Not setting metadata\n",
      "0 projection items activated\n",
      "Loading data for 74 events and 176 original time points ...\n",
      "1 bad epochs dropped\n",
      "48 matching events found\n",
      "Applying baseline correction (mode: mean)\n",
      "Not setting metadata\n",
      "0 projection items activated\n",
      "Loading data for 48 events and 176 original time points ...\n",
      "3 bad epochs dropped\n",
      "63 matching events found\n",
      "Applying baseline correction (mode: mean)\n",
      "Not setting metadata\n",
      "0 projection items activated\n",
      "Loading data for 63 events and 176 original time points ...\n",
      "2 bad epochs dropped\n",
      "55 matching events found\n",
      "Applying baseline correction (mode: mean)\n",
      "Not setting metadata\n",
      "0 projection items activated\n",
      "Loading data for 55 events and 176 original time points ...\n",
      "1 bad epochs dropped\n",
      "74 matching events found\n",
      "Applying baseline correction (mode: mean)\n",
      "Not setting metadata\n",
      "0 projection items activated\n",
      "Loading data for 74 events and 176 original time points ...\n",
      "3 bad epochs dropped\n",
      "48 matching events found\n",
      "Applying baseline correction (mode: mean)\n",
      "Not setting metadata\n",
      "0 projection items activated\n",
      "Loading data for 48 events and 176 original time points ...\n",
      "4 bad epochs dropped\n",
      "63 matching events found\n",
      "Applying baseline correction (mode: mean)\n",
      "Not setting metadata\n",
      "0 projection items activated\n",
      "Loading data for 63 events and 176 original time points ...\n",
      "0 bad epochs dropped\n",
      "55 matching events found\n",
      "Applying baseline correction (mode: mean)\n",
      "Not setting metadata\n",
      "0 projection items activated\n",
      "Loading data for 55 events and 176 original time points ...\n",
      "1 bad epochs dropped\n",
      "74 matching events found\n",
      "Applying baseline correction (mode: mean)\n",
      "Not setting metadata\n",
      "0 projection items activated\n",
      "Loading data for 74 events and 176 original time points ...\n",
      "0 bad epochs dropped\n",
      "48 matching events found\n",
      "Applying baseline correction (mode: mean)\n",
      "Not setting metadata\n",
      "0 projection items activated\n",
      "Loading data for 48 events and 176 original time points ...\n",
      "0 bad epochs dropped\n",
      "63 matching events found\n",
      "Applying baseline correction (mode: mean)\n",
      "Not setting metadata\n",
      "0 projection items activated\n",
      "Loading data for 63 events and 176 original time points ...\n",
      "15 bad epochs dropped\n",
      "55 matching events found\n",
      "Applying baseline correction (mode: mean)\n",
      "Not setting metadata\n",
      "0 projection items activated\n",
      "Loading data for 55 events and 176 original time points ...\n",
      "13 bad epochs dropped\n",
      "74 matching events found\n",
      "Applying baseline correction (mode: mean)\n",
      "Not setting metadata\n",
      "0 projection items activated\n",
      "Loading data for 74 events and 176 original time points ...\n",
      "16 bad epochs dropped\n",
      "48 matching events found\n",
      "Applying baseline correction (mode: mean)\n",
      "Not setting metadata\n",
      "0 projection items activated\n",
      "Loading data for 48 events and 176 original time points ...\n",
      "13 bad epochs dropped\n",
      "63 matching events found\n",
      "Applying baseline correction (mode: mean)\n",
      "Not setting metadata\n",
      "0 projection items activated\n",
      "Loading data for 63 events and 176 original time points ...\n",
      "2 bad epochs dropped\n",
      "55 matching events found\n",
      "Applying baseline correction (mode: mean)\n",
      "Not setting metadata\n"
     ]
    },
    {
     "name": "stdout",
     "output_type": "stream",
     "text": [
      "0 projection items activated\n",
      "Loading data for 55 events and 176 original time points ...\n",
      "1 bad epochs dropped\n",
      "74 matching events found\n",
      "Applying baseline correction (mode: mean)\n",
      "Not setting metadata\n",
      "0 projection items activated\n",
      "Loading data for 74 events and 176 original time points ...\n",
      "1 bad epochs dropped\n",
      "48 matching events found\n",
      "Applying baseline correction (mode: mean)\n",
      "Not setting metadata\n",
      "0 projection items activated\n",
      "Loading data for 48 events and 176 original time points ...\n",
      "3 bad epochs dropped\n"
     ]
    }
   ],
   "source": [
    "data=dict()\n",
    "for i in range (len(visual)):\n",
    "    # EXtract data for 4 CL levels for encoding stage or recall\n",
    "    data[i+1] ={\n",
    "        2:mne.Epochs(visual[i], events=events[0],event_id=1).get_data(),\n",
    "        \n",
    "        4:mne.Epochs(visual[i], events[0],event_id=2).get_data(),\n",
    "        \n",
    "        6:mne.Epochs(visual[i], events[0],event_id=4).get_data(),\n",
    "        \n",
    "        8:mne.Epochs(visual[i], events[0],event_id=event_id[\"28\"]).get_data()\n",
    "    }\n",
    "    "
   ]
  },
  {
   "cell_type": "code",
   "execution_count": 9,
   "metadata": {},
   "outputs": [],
   "source": [
    "# path=\"/media/kashraf/Elements/Dissertation/data/preprocessed/visual\"\n",
    "# pickle.dump(data,open(os.path.join(path,\"visual_choices.pickle\"),\"wb\"))"
   ]
  },
  {
   "cell_type": "markdown",
   "metadata": {},
   "source": [
    "## Wavelet transform"
   ]
  },
  {
   "cell_type": "code",
   "execution_count": 44,
   "metadata": {},
   "outputs": [
    {
     "name": "stdout",
     "output_type": "stream",
     "text": [
      "No baseline correction applied\n",
      "No baseline correction applied\n"
     ]
    },
    {
     "data": {
      "image/png": "[encoded data removed]",
      "text/plain": [
       "<Figure size 640x480 with 3 Axes>"
      ]
     },
     "metadata": {},
     "output_type": "display_data"
    },
    {
     "data": {
      "image/png": "[encoded data removed]",
      "text/plain": [
       "<Figure size 640x480 with 3 Axes>"
      ]
     },
     "execution_count": 44,
     "metadata": {},
     "output_type": "execute_result"
    }
   ],
   "source": [
    "test_data= data[1][2][1]\n",
    "test_data= np.reshape(test_data,(1,64,176))\n",
    "test_data= mne.EpochsArray(test_data,info=info,verbose=0)\n",
    "frequencies = np.arange(7, 30, 3)\n",
    "n_cycles = freqs\n",
    "wt= mne.time_frequency.tfr_morlet(test_data,freqs=frequencies,n_cycles=1)\n",
    "wt[0].plot_joint()"
   ]
  },
  {
   "cell_type": "code",
   "execution_count": 22,
   "metadata": {},
   "outputs": [
    {
     "ename": "AttributeError",
     "evalue": "'EpochsArray' object has no attribute 'shape'",
     "output_type": "error",
     "traceback": [
      "\u001b[0;31m---------------------------------------------------------------------------\u001b[0m",
      "\u001b[0;31mAttributeError\u001b[0m                            Traceback (most recent call last)",
      "Input \u001b[0;32mIn [22]\u001b[0m, in \u001b[0;36m<cell line: 1>\u001b[0;34m()\u001b[0m\n\u001b[0;32m----> 1\u001b[0m \u001b[43mtest_data\u001b[49m\u001b[38;5;241;43m.\u001b[39;49m\u001b[43mshape\u001b[49m\n",
      "\u001b[0;31mAttributeError\u001b[0m: 'EpochsArray' object has no attribute 'shape'"
     ]
    }
   ],
   "source": [
    "test_data.shape"
   ]
  },
  {
   "cell_type": "code",
   "execution_count": 8,
   "metadata": {},
   "outputs": [],
   "source": [
    "def psd_gen(sub_data, cl_level, fmin,fmax):\n",
    "    data=sub_data[cl_level]\n",
    "    sub_psd=[]\n",
    "    for i in (range(data.shape[0])):\n",
    "        # Get single trial data into the right shape\n",
    "        single_trial = np.reshape(data[i],(1,64,176))\n",
    "        single_trial= mne.EpochsArray(single_trial,info=info,verbose=0)\n",
    "        \n",
    "        # Get Mean psd\n",
    "        psd,freq= mne.time_frequency.psd_welch(single_trial, fmin= fmin, fmax=fmax,n_fft=176,verbose=0)\n",
    "        mean_psd= np.average(psd,axis=2).flatten()\n",
    "        sub_psd.append(mean_psd)\n",
    "    return np.array(sub_psd)"
   ]
  },
  {
   "cell_type": "code",
   "execution_count": 9,
   "metadata": {},
   "outputs": [
    {
     "name": "stderr",
     "output_type": "stream",
     "text": [
      "100%|███████████████████████████████████████████| 11/11 [00:02<00:00,  4.48it/s]\n",
      "100%|███████████████████████████████████████████| 11/11 [00:02<00:00,  5.27it/s]\n",
      "100%|███████████████████████████████████████████| 11/11 [00:02<00:00,  3.95it/s]\n",
      "100%|███████████████████████████████████████████| 11/11 [00:01<00:00,  6.27it/s]\n"
     ]
    }
   ],
   "source": [
    "theta=[np.concatenate([psd_gen(data[sub],2,1,3) for sub in tqdm(data)]),\n",
    "       np.concatenate([psd_gen(data[sub],4,1,3) for sub in tqdm(data)]),\n",
    "       np.concatenate([psd_gen(data[sub],6,1,3) for sub in tqdm(data)]),\n",
    "       np.concatenate([psd_gen(data[sub],8,1,3) for sub in tqdm(data)])]"
   ]
  },
  {
   "cell_type": "code",
   "execution_count": 13,
   "metadata": {},
   "outputs": [],
   "source": [
    "import pandas as pd\n",
    "cls=[[1]*theta[0].shape[0],[2]*theta[1].shape[0],\n",
    "    [3]*theta[2].shape[0],[4]*theta[3].shape[0]]\n",
    "x=pd.DataFrame(np.concatenate(theta))\n",
    "y=pd.DataFrame(np.concatenate(cls))\n",
    "x.insert(64, \"class\", y, True)"
   ]
  },
  {
   "cell_type": "code",
   "execution_count": 14,
   "metadata": {},
   "outputs": [],
   "source": [
    "path=\"/media/kashraf/Elements/Dissertation/data/preprocessed/visual/\"\n",
    "x.to_csv(os.path.join(path,\"psd_data_noisy\",\"delta_psd.csv\"))"
   ]
  },
  {
   "cell_type": "code",
   "execution_count": 15,
   "metadata": {},
   "outputs": [],
   "source": [
    "t=data[1][2][0]\n",
    "single_trial = np.reshape(t,(1,64,176))\n",
    "single_trial= mne.EpochsArray(single_trial,info=info,verbose=0)\n",
    "        \n",
    "        # Get Mean psd\n",
    "psd,freq= mne.time_frequency.psd_welch(single_trial,n_fft=176,verbose=0)"
   ]
  },
  {
   "cell_type": "code",
   "execution_count": 16,
   "metadata": {},
   "outputs": [
    {
     "data": {
      "text/plain": [
       "<Info | 18 non-empty fields\n",
       "    bads : list | 0 items\n",
       "    ch_names : list | FP1, FPZ, FP2, AF3, AF4, F7, F5, F3, F1, ...\n",
       "    chs : list | 64 items (EEG: 64)\n",
       "    comps : list | 0 items\n",
       "    custom_ref_applied : bool | False\n",
       "    dev_head_t : Transform | 3 items\n",
       "    dig : Digitization | 64 items (64 EEG)\n",
       "    events : list | 0 items\n",
       "    highpass : float | 0.0 Hz\n",
       "    hpi_meas : list | 0 items\n",
       "    hpi_results : list | 0 items\n",
       "    lowpass : float | 125.0 Hz\n",
       "    meas_date : NoneType | unspecified\n",
       "    nchan : int | 64\n",
       "    proc_history : list | 0 items\n",
       "    projs : list | 0 items\n",
       "    sfreq : float | 250.0 Hz\n",
       "    subject_info : dict | 5 items\n",
       "    acq_pars : NoneType\n",
       "    acq_stim : NoneType\n",
       "    ctf_head_t : NoneType\n",
       "    description : NoneType\n",
       "    dev_ctf_t : NoneType\n",
       "    device_info : NoneType\n",
       "    experimenter : NoneType\n",
       "    file_id : NoneType\n",
       "    gantry_angle : NoneType\n",
       "    helium_info : NoneType\n",
       "    hpi_subsystem : NoneType\n",
       "    kit_system_id : NoneType\n",
       "    line_freq : NoneType\n",
       "    meas_id : NoneType\n",
       "    proj_id : NoneType\n",
       "    proj_name : NoneType\n",
       "    utc_offset : NoneType\n",
       "    xplotter_layout : NoneType\n",
       ">"
      ]
     },
     "execution_count": 16,
     "metadata": {},
     "output_type": "execute_result"
    }
   ],
   "source": [
    "info"
   ]
  },
  {
   "cell_type": "code",
   "execution_count": 17,
   "metadata": {},
   "outputs": [
    {
     "ename": "NameError",
     "evalue": "name 'raw' is not defined",
     "output_type": "error",
     "traceback": [
      "\u001b[0;31m---------------------------------------------------------------------------\u001b[0m",
      "\u001b[0;31mNameError\u001b[0m                                 Traceback (most recent call last)",
      "Input \u001b[0;32mIn [17]\u001b[0m, in \u001b[0;36m<module>\u001b[0;34m\u001b[0m\n\u001b[0;32m----> 1\u001b[0m \u001b[43mraw\u001b[49m\n",
      "\u001b[0;31mNameError\u001b[0m: name 'raw' is not defined"
     ]
    }
   ],
   "source": [
    "raw"
   ]
  },
  {
   "cell_type": "code",
   "execution_count": null,
   "metadata": {},
   "outputs": [],
   "source": [
    "erp2=np.reshape(data[sub][\"erp2_new\"][i],(1,64,176))\n",
    "        erp2=mne.EpochsArray(erp2,info=raw_data[0].info,verbose=0)\n",
    "psd,freq= mne.time_frequency.psd_welch(my_data, fmin= fmin, fmax=fmax,n_fft=176,verbose=0)\n",
    "    psd1= np.average(psd,axis=2).flatten()"
   ]
  },
  {
   "cell_type": "code",
   "execution_count": 93,
   "metadata": {},
   "outputs": [
    {
     "data": {
      "text/html": [
       "<div>\n",
       "<style scoped>\n",
       "    .dataframe tbody tr th:only-of-type {\n",
       "        vertical-align: middle;\n",
       "    }\n",
       "\n",
       "    .dataframe tbody tr th {\n",
       "        vertical-align: top;\n",
       "    }\n",
       "\n",
       "    .dataframe thead th {\n",
       "        text-align: right;\n",
       "    }\n",
       "</style>\n",
       "<table border=\"1\" class=\"dataframe\">\n",
       "  <thead>\n",
       "    <tr style=\"text-align: right;\">\n",
       "      <th></th>\n",
       "      <th>0</th>\n",
       "      <th>1</th>\n",
       "      <th>2</th>\n",
       "      <th>3</th>\n",
       "      <th>4</th>\n",
       "      <th>5</th>\n",
       "      <th>6</th>\n",
       "      <th>7</th>\n",
       "      <th>8</th>\n",
       "      <th>9</th>\n",
       "      <th>...</th>\n",
       "      <th>55</th>\n",
       "      <th>56</th>\n",
       "      <th>57</th>\n",
       "      <th>58</th>\n",
       "      <th>59</th>\n",
       "      <th>60</th>\n",
       "      <th>61</th>\n",
       "      <th>62</th>\n",
       "      <th>63</th>\n",
       "      <th>class</th>\n",
       "    </tr>\n",
       "  </thead>\n",
       "  <tbody>\n",
       "    <tr>\n",
       "      <th>3400</th>\n",
       "      <td>3.182906e-13</td>\n",
       "      <td>5.446012e-13</td>\n",
       "      <td>5.555841e-14</td>\n",
       "      <td>5.987031e-13</td>\n",
       "      <td>5.513171e-14</td>\n",
       "      <td>9.055484e-14</td>\n",
       "      <td>1.287593e-13</td>\n",
       "      <td>3.527576e-14</td>\n",
       "      <td>1.622442e-14</td>\n",
       "      <td>2.605111e-14</td>\n",
       "      <td>...</td>\n",
       "      <td>4.695977e-15</td>\n",
       "      <td>3.515636e-15</td>\n",
       "      <td>2.273989e-15</td>\n",
       "      <td>6.994935e-15</td>\n",
       "      <td>7.110321e-15</td>\n",
       "      <td>3.089267e-15</td>\n",
       "      <td>2.504164e-15</td>\n",
       "      <td>5.899028e-15</td>\n",
       "      <td>4.365867e-15</td>\n",
       "      <td>4</td>\n",
       "    </tr>\n",
       "    <tr>\n",
       "      <th>3401</th>\n",
       "      <td>3.700316e-14</td>\n",
       "      <td>1.330623e-14</td>\n",
       "      <td>3.929696e-14</td>\n",
       "      <td>1.691940e-13</td>\n",
       "      <td>6.400756e-15</td>\n",
       "      <td>1.710860e-14</td>\n",
       "      <td>7.949271e-15</td>\n",
       "      <td>5.528005e-15</td>\n",
       "      <td>5.039650e-15</td>\n",
       "      <td>1.132187e-14</td>\n",
       "      <td>...</td>\n",
       "      <td>3.589049e-15</td>\n",
       "      <td>4.653022e-15</td>\n",
       "      <td>8.724664e-16</td>\n",
       "      <td>5.427833e-15</td>\n",
       "      <td>2.067062e-15</td>\n",
       "      <td>1.041086e-14</td>\n",
       "      <td>1.860768e-15</td>\n",
       "      <td>3.022737e-15</td>\n",
       "      <td>4.387830e-15</td>\n",
       "      <td>4</td>\n",
       "    </tr>\n",
       "    <tr>\n",
       "      <th>3402</th>\n",
       "      <td>7.464038e-13</td>\n",
       "      <td>2.389579e-12</td>\n",
       "      <td>9.236113e-13</td>\n",
       "      <td>3.211994e-13</td>\n",
       "      <td>7.381296e-13</td>\n",
       "      <td>2.552547e-14</td>\n",
       "      <td>4.883757e-14</td>\n",
       "      <td>8.101004e-15</td>\n",
       "      <td>2.431237e-14</td>\n",
       "      <td>6.748553e-14</td>\n",
       "      <td>...</td>\n",
       "      <td>5.658666e-15</td>\n",
       "      <td>1.141584e-15</td>\n",
       "      <td>2.896776e-15</td>\n",
       "      <td>2.057829e-15</td>\n",
       "      <td>1.181238e-14</td>\n",
       "      <td>9.996800e-15</td>\n",
       "      <td>6.085762e-15</td>\n",
       "      <td>1.542401e-15</td>\n",
       "      <td>5.062728e-16</td>\n",
       "      <td>4</td>\n",
       "    </tr>\n",
       "    <tr>\n",
       "      <th>3403</th>\n",
       "      <td>4.152875e-14</td>\n",
       "      <td>1.572345e-13</td>\n",
       "      <td>8.355055e-14</td>\n",
       "      <td>8.673372e-14</td>\n",
       "      <td>1.316308e-13</td>\n",
       "      <td>1.958054e-14</td>\n",
       "      <td>1.441905e-13</td>\n",
       "      <td>2.090438e-14</td>\n",
       "      <td>3.168538e-15</td>\n",
       "      <td>1.406062e-14</td>\n",
       "      <td>...</td>\n",
       "      <td>1.387421e-15</td>\n",
       "      <td>3.295463e-15</td>\n",
       "      <td>2.089915e-15</td>\n",
       "      <td>1.204507e-15</td>\n",
       "      <td>1.134461e-15</td>\n",
       "      <td>5.233327e-16</td>\n",
       "      <td>1.666140e-15</td>\n",
       "      <td>2.016404e-15</td>\n",
       "      <td>2.196254e-15</td>\n",
       "      <td>4</td>\n",
       "    </tr>\n",
       "    <tr>\n",
       "      <th>3404</th>\n",
       "      <td>2.413955e-14</td>\n",
       "      <td>7.330115e-14</td>\n",
       "      <td>7.179467e-14</td>\n",
       "      <td>1.047241e-13</td>\n",
       "      <td>7.023949e-14</td>\n",
       "      <td>3.614002e-14</td>\n",
       "      <td>1.509249e-13</td>\n",
       "      <td>2.311021e-14</td>\n",
       "      <td>5.048912e-15</td>\n",
       "      <td>1.419031e-14</td>\n",
       "      <td>...</td>\n",
       "      <td>2.111638e-15</td>\n",
       "      <td>6.676561e-16</td>\n",
       "      <td>2.648078e-15</td>\n",
       "      <td>6.712146e-16</td>\n",
       "      <td>1.479925e-15</td>\n",
       "      <td>1.714872e-15</td>\n",
       "      <td>1.529399e-15</td>\n",
       "      <td>1.192563e-15</td>\n",
       "      <td>1.095795e-15</td>\n",
       "      <td>4</td>\n",
       "    </tr>\n",
       "  </tbody>\n",
       "</table>\n",
       "<p>5 rows × 65 columns</p>\n",
       "</div>"
      ],
      "text/plain": [
       "                 0             1             2             3             4  \\\n",
       "3400  3.182906e-13  5.446012e-13  5.555841e-14  5.987031e-13  5.513171e-14   \n",
       "3401  3.700316e-14  1.330623e-14  3.929696e-14  1.691940e-13  6.400756e-15   \n",
       "3402  7.464038e-13  2.389579e-12  9.236113e-13  3.211994e-13  7.381296e-13   \n",
       "3403  4.152875e-14  1.572345e-13  8.355055e-14  8.673372e-14  1.316308e-13   \n",
       "3404  2.413955e-14  7.330115e-14  7.179467e-14  1.047241e-13  7.023949e-14   \n",
       "\n",
       "                 5             6             7             8             9  \\\n",
       "3400  9.055484e-14  1.287593e-13  3.527576e-14  1.622442e-14  2.605111e-14   \n",
       "3401  1.710860e-14  7.949271e-15  5.528005e-15  5.039650e-15  1.132187e-14   \n",
       "3402  2.552547e-14  4.883757e-14  8.101004e-15  2.431237e-14  6.748553e-14   \n",
       "3403  1.958054e-14  1.441905e-13  2.090438e-14  3.168538e-15  1.406062e-14   \n",
       "3404  3.614002e-14  1.509249e-13  2.311021e-14  5.048912e-15  1.419031e-14   \n",
       "\n",
       "      ...            55            56            57            58  \\\n",
       "3400  ...  4.695977e-15  3.515636e-15  2.273989e-15  6.994935e-15   \n",
       "3401  ...  3.589049e-15  4.653022e-15  8.724664e-16  5.427833e-15   \n",
       "3402  ...  5.658666e-15  1.141584e-15  2.896776e-15  2.057829e-15   \n",
       "3403  ...  1.387421e-15  3.295463e-15  2.089915e-15  1.204507e-15   \n",
       "3404  ...  2.111638e-15  6.676561e-16  2.648078e-15  6.712146e-16   \n",
       "\n",
       "                59            60            61            62            63  \\\n",
       "3400  7.110321e-15  3.089267e-15  2.504164e-15  5.899028e-15  4.365867e-15   \n",
       "3401  2.067062e-15  1.041086e-14  1.860768e-15  3.022737e-15  4.387830e-15   \n",
       "3402  1.181238e-14  9.996800e-15  6.085762e-15  1.542401e-15  5.062728e-16   \n",
       "3403  1.134461e-15  5.233327e-16  1.666140e-15  2.016404e-15  2.196254e-15   \n",
       "3404  1.479925e-15  1.714872e-15  1.529399e-15  1.192563e-15  1.095795e-15   \n",
       "\n",
       "      class  \n",
       "3400      4  \n",
       "3401      4  \n",
       "3402      4  \n",
       "3403      4  \n",
       "3404      4  \n",
       "\n",
       "[5 rows x 65 columns]"
      ]
     },
     "execution_count": 93,
     "metadata": {},
     "output_type": "execute_result"
    }
   ],
   "source": [
    "/media/kashraf/Elements/Dissertation/data/preprocessed/visual"
   ]
  }
 ],
 "metadata": {
  "kernelspec": {
   "display_name": "Python 3 (ipykernel)",
   "language": "python",
   "name": "python3"
  },
  "language_info": {
   "codemirror_mode": {
    "name": "ipython",
    "version": 3
   },
   "file_extension": ".py",
   "mimetype": "text/x-python",
   "name": "python",
   "nbconvert_exporter": "python",
   "pygments_lexer": "ipython3",
   "version": "3.8.10"
  }
 },
 "nbformat": 4,
 "nbformat_minor": 2
}
