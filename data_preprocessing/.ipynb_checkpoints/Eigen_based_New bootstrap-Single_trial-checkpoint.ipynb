{
 "cells": [
  {
   "cell_type": "code",
   "execution_count": 8,
   "metadata": {},
   "outputs": [
    {
     "name": "stderr",
     "output_type": "stream",
     "text": [
      "100%|███████████████████████████████████████████| 11/11 [00:39<00:00,  3.63s/it]\n",
      "100%|██████████████████████████████████████████| 11/11 [00:00<00:00, 338.00it/s]\n"
     ]
    }
   ],
   "source": [
    "import mne\n",
    "import os\n",
    "from os.path import abspath\n",
    "import matplotlib.pyplot as plt\n",
    "import numpy as np\n",
    "import pandas as pd\n",
    "from mne.time_frequency import psd_welch\n",
    "from tqdm import tqdm\n",
    "import itertools\n",
    "import warnings\n",
    "import pywt\n",
    "warnings.filterwarnings(\"ignore\")\n",
    "from multiprocessing import Process\n",
    "file_path=\"/media/kashraf/Elements/data_gen_may_2021/EEG data/Audio/\"\n",
    "filename=os.listdir(file_path)\n",
    "path_montage=\"/media/kashraf/Elements/data_gen_may_2021/montage/\"\n",
    "montage=mne.channels.read_montage(path_montage+\"//\"+\"neuroscan64ch.loc\")\n",
    "raw_data=[]\n",
    "for file in tqdm(filename):\n",
    "    files=mne.io.read_raw_cnt(file_path+\"/\"+file,montage=montage, preload=True,verbose=False);\n",
    "    raw_data.append(files)\n",
    "\n",
    "## Selecting channels to include\n",
    "good_ch= mne.pick_channels(raw_data[0].info['ch_names'], include=[],\n",
    "                        exclude=[\"EKG\",\"EMG\",'VEO','HEO','Trigger'])\n",
    "mne.pick_info(raw_data[0].info,sel=good_ch,copy=False,verbose=False)\n",
    "for f in tqdm(raw_data):\n",
    "    mne.pick_info(f.info,sel=good_ch,copy=False)\n",
    "    f.set_montage(montage)"
   ]
  },
  {
   "cell_type": "code",
   "execution_count": 2,
   "metadata": {},
   "outputs": [
    {
     "name": "stdout",
     "output_type": "stream",
     "text": [
      "Used Annotations descriptions: ['22', '24', '255', '26', '28', '31', '32', '33', '34', '35', '36', '37', '38', '39', '40', '41', '42', '43', '44', '45', '51', '52', '62', '64', '66', '68']\n"
     ]
    },
    {
     "data": {
      "text/plain": [
       "(array([[   639,      0,      3],\n",
       "        [   821,      0,      3],\n",
       "        [  1038,      0,      3],\n",
       "        ...,\n",
       "        [639996,      0,      3],\n",
       "        [640492,      0,      3],\n",
       "        [641200,      0,      3]]),\n",
       " {'22': 1,\n",
       "  '24': 2,\n",
       "  '255': 3,\n",
       "  '26': 4,\n",
       "  '28': 5,\n",
       "  '31': 6,\n",
       "  '32': 7,\n",
       "  '33': 8,\n",
       "  '34': 9,\n",
       "  '35': 10,\n",
       "  '36': 11,\n",
       "  '37': 12,\n",
       "  '38': 13,\n",
       "  '39': 14,\n",
       "  '40': 15,\n",
       "  '41': 16,\n",
       "  '42': 17,\n",
       "  '43': 18,\n",
       "  '44': 19,\n",
       "  '45': 20,\n",
       "  '51': 21,\n",
       "  '52': 22,\n",
       "  '62': 23,\n",
       "  '64': 24,\n",
       "  '66': 25,\n",
       "  '68': 26})"
      ]
     },
     "execution_count": 2,
     "metadata": {},
     "output_type": "execute_result"
    }
   ],
   "source": [
    "events= mne.events_from_annotations(raw_data[6])\n",
    "\n",
    "# event_id_recall={'12': 1, '14': 2, '16': 3, '18': 4}\n",
    "# event_id_encoding={\"22\":1,\"24\":2,\"26\":3,\"28\":4}\n",
    "# # event_id_answer={\"\"}\n",
    "# event_id_answer={\"51\":9,\"52\":10}\n",
    "events\n"
   ]
  },
  {
   "cell_type": "code",
   "execution_count": 3,
   "metadata": {},
   "outputs": [],
   "source": [
    "info=raw_data[1].info\n",
    "# info"
   ]
  },
  {
   "cell_type": "code",
   "execution_count": 4,
   "metadata": {},
   "outputs": [
    {
     "name": "stdout",
     "output_type": "stream",
     "text": [
      "45 matching events found\n",
      "Applying baseline correction (mode: mean)\n",
      "Not setting metadata\n",
      "0 projection items activated\n",
      "Loading data for 45 events and 176 original time points ...\n",
      "0 bad epochs dropped\n",
      "45 matching events found\n",
      "Applying baseline correction (mode: mean)\n",
      "Not setting metadata\n",
      "0 projection items activated\n",
      "Loading data for 45 events and 176 original time points ...\n",
      "0 bad epochs dropped\n",
      "45 matching events found\n",
      "Applying baseline correction (mode: mean)\n",
      "Not setting metadata\n",
      "0 projection items activated\n",
      "Loading data for 45 events and 176 original time points ...\n",
      "0 bad epochs dropped\n",
      "45 matching events found\n",
      "Applying baseline correction (mode: mean)\n",
      "Not setting metadata\n",
      "0 projection items activated\n",
      "Loading data for 45 events and 176 original time points ...\n",
      "0 bad epochs dropped\n",
      "45 matching events found\n",
      "Applying baseline correction (mode: mean)\n",
      "Not setting metadata\n",
      "0 projection items activated\n",
      "Loading data for 45 events and 176 original time points ...\n",
      "0 bad epochs dropped\n",
      "45 matching events found\n",
      "Applying baseline correction (mode: mean)\n",
      "Not setting metadata\n",
      "0 projection items activated\n",
      "Loading data for 45 events and 176 original time points ...\n",
      "0 bad epochs dropped\n",
      "45 matching events found\n",
      "Applying baseline correction (mode: mean)\n",
      "Not setting metadata\n",
      "0 projection items activated\n",
      "Loading data for 45 events and 176 original time points ...\n",
      "0 bad epochs dropped\n",
      "45 matching events found\n",
      "Applying baseline correction (mode: mean)\n",
      "Not setting metadata\n",
      "0 projection items activated\n",
      "Loading data for 45 events and 176 original time points ...\n",
      "0 bad epochs dropped\n",
      "45 matching events found\n",
      "Applying baseline correction (mode: mean)\n",
      "Not setting metadata\n",
      "0 projection items activated\n",
      "Loading data for 45 events and 176 original time points ...\n",
      "0 bad epochs dropped\n",
      "45 matching events found\n",
      "Applying baseline correction (mode: mean)\n",
      "Not setting metadata\n",
      "0 projection items activated\n",
      "Loading data for 45 events and 176 original time points ...\n",
      "0 bad epochs dropped\n",
      "45 matching events found\n",
      "Applying baseline correction (mode: mean)\n",
      "Not setting metadata\n",
      "0 projection items activated\n",
      "Loading data for 45 events and 176 original time points ...\n",
      "0 bad epochs dropped\n",
      "45 matching events found\n",
      "Applying baseline correction (mode: mean)\n",
      "Not setting metadata\n",
      "0 projection items activated\n",
      "Loading data for 45 events and 176 original time points ...\n",
      "0 bad epochs dropped\n",
      "45 matching events found\n",
      "Applying baseline correction (mode: mean)\n",
      "Not setting metadata\n",
      "0 projection items activated\n",
      "Loading data for 45 events and 176 original time points ...\n",
      "0 bad epochs dropped\n",
      "45 matching events found\n",
      "Applying baseline correction (mode: mean)\n",
      "Not setting metadata\n",
      "0 projection items activated\n",
      "Loading data for 45 events and 176 original time points ...\n",
      "0 bad epochs dropped\n",
      "45 matching events found\n",
      "Applying baseline correction (mode: mean)\n",
      "Not setting metadata\n",
      "0 projection items activated\n",
      "Loading data for 45 events and 176 original time points ...\n",
      "0 bad epochs dropped\n",
      "45 matching events found\n",
      "Applying baseline correction (mode: mean)\n",
      "Not setting metadata\n",
      "0 projection items activated\n",
      "Loading data for 45 events and 176 original time points ...\n",
      "0 bad epochs dropped\n",
      "45 matching events found\n",
      "Applying baseline correction (mode: mean)\n",
      "Not setting metadata\n",
      "0 projection items activated\n",
      "Loading data for 45 events and 176 original time points ...\n",
      "0 bad epochs dropped\n",
      "45 matching events found\n",
      "Applying baseline correction (mode: mean)\n",
      "Not setting metadata\n",
      "0 projection items activated\n",
      "Loading data for 45 events and 176 original time points ...\n",
      "0 bad epochs dropped\n",
      "45 matching events found\n",
      "Applying baseline correction (mode: mean)\n",
      "Not setting metadata\n",
      "0 projection items activated\n",
      "Loading data for 45 events and 176 original time points ...\n",
      "0 bad epochs dropped\n",
      "45 matching events found\n",
      "Applying baseline correction (mode: mean)\n",
      "Not setting metadata\n",
      "0 projection items activated\n",
      "Loading data for 45 events and 176 original time points ...\n",
      "0 bad epochs dropped\n",
      "45 matching events found\n",
      "Applying baseline correction (mode: mean)\n",
      "Not setting metadata\n",
      "0 projection items activated\n",
      "Loading data for 45 events and 176 original time points ...\n",
      "0 bad epochs dropped\n",
      "45 matching events found\n",
      "Applying baseline correction (mode: mean)\n",
      "Not setting metadata\n",
      "0 projection items activated\n",
      "Loading data for 45 events and 176 original time points ...\n",
      "0 bad epochs dropped\n",
      "45 matching events found\n",
      "Applying baseline correction (mode: mean)\n",
      "Not setting metadata\n",
      "0 projection items activated\n",
      "Loading data for 45 events and 176 original time points ...\n",
      "0 bad epochs dropped\n",
      "45 matching events found\n",
      "Applying baseline correction (mode: mean)\n",
      "Not setting metadata\n",
      "0 projection items activated\n",
      "Loading data for 45 events and 176 original time points ...\n",
      "0 bad epochs dropped\n",
      "45 matching events found\n",
      "Applying baseline correction (mode: mean)\n",
      "Not setting metadata\n",
      "0 projection items activated\n",
      "Loading data for 45 events and 176 original time points ...\n",
      "0 bad epochs dropped\n",
      "45 matching events found\n",
      "Applying baseline correction (mode: mean)\n",
      "Not setting metadata\n",
      "0 projection items activated\n",
      "Loading data for 45 events and 176 original time points ...\n",
      "0 bad epochs dropped\n",
      "45 matching events found\n",
      "Applying baseline correction (mode: mean)\n",
      "Not setting metadata\n",
      "0 projection items activated\n",
      "Loading data for 45 events and 176 original time points ...\n",
      "0 bad epochs dropped\n",
      "45 matching events found\n",
      "Applying baseline correction (mode: mean)\n",
      "Not setting metadata\n",
      "0 projection items activated\n",
      "Loading data for 45 events and 176 original time points ...\n",
      "0 bad epochs dropped\n",
      "45 matching events found\n",
      "Applying baseline correction (mode: mean)\n",
      "Not setting metadata\n",
      "0 projection items activated\n",
      "Loading data for 45 events and 176 original time points ...\n",
      "0 bad epochs dropped\n",
      "45 matching events found\n",
      "Applying baseline correction (mode: mean)\n",
      "Not setting metadata\n",
      "0 projection items activated\n",
      "Loading data for 45 events and 176 original time points ...\n",
      "0 bad epochs dropped\n",
      "45 matching events found\n",
      "Applying baseline correction (mode: mean)\n",
      "Not setting metadata\n",
      "0 projection items activated\n",
      "Loading data for 45 events and 176 original time points ...\n",
      "0 bad epochs dropped\n",
      "45 matching events found\n",
      "Applying baseline correction (mode: mean)\n",
      "Not setting metadata\n",
      "0 projection items activated\n",
      "Loading data for 45 events and 176 original time points ...\n",
      "0 bad epochs dropped\n",
      "45 matching events found\n",
      "Applying baseline correction (mode: mean)\n",
      "Not setting metadata\n",
      "0 projection items activated\n",
      "Loading data for 45 events and 176 original time points ...\n",
      "0 bad epochs dropped\n",
      "45 matching events found\n",
      "Applying baseline correction (mode: mean)\n",
      "Not setting metadata\n",
      "0 projection items activated\n",
      "Loading data for 45 events and 176 original time points ...\n",
      "0 bad epochs dropped\n",
      "45 matching events found\n",
      "Applying baseline correction (mode: mean)\n",
      "Not setting metadata\n",
      "0 projection items activated\n",
      "Loading data for 45 events and 176 original time points ...\n",
      "0 bad epochs dropped\n",
      "45 matching events found\n",
      "Applying baseline correction (mode: mean)\n",
      "Not setting metadata\n",
      "0 projection items activated\n",
      "Loading data for 45 events and 176 original time points ...\n",
      "0 bad epochs dropped\n",
      "45 matching events found\n",
      "Applying baseline correction (mode: mean)\n",
      "Not setting metadata\n",
      "0 projection items activated\n",
      "Loading data for 45 events and 176 original time points ...\n",
      "0 bad epochs dropped\n",
      "45 matching events found\n",
      "Applying baseline correction (mode: mean)\n",
      "Not setting metadata\n",
      "0 projection items activated\n",
      "Loading data for 45 events and 176 original time points ...\n",
      "0 bad epochs dropped\n",
      "45 matching events found\n",
      "Applying baseline correction (mode: mean)\n",
      "Not setting metadata\n",
      "0 projection items activated\n",
      "Loading data for 45 events and 176 original time points ...\n",
      "0 bad epochs dropped\n",
      "45 matching events found\n",
      "Applying baseline correction (mode: mean)\n",
      "Not setting metadata\n",
      "0 projection items activated\n",
      "Loading data for 45 events and 176 original time points ...\n",
      "0 bad epochs dropped\n",
      "45 matching events found\n",
      "Applying baseline correction (mode: mean)\n",
      "Not setting metadata\n",
      "0 projection items activated\n",
      "Loading data for 45 events and 176 original time points ...\n",
      "0 bad epochs dropped\n",
      "45 matching events found\n",
      "Applying baseline correction (mode: mean)\n",
      "Not setting metadata\n"
     ]
    },
    {
     "name": "stdout",
     "output_type": "stream",
     "text": [
      "0 projection items activated\n",
      "Loading data for 45 events and 176 original time points ...\n",
      "0 bad epochs dropped\n",
      "45 matching events found\n",
      "Applying baseline correction (mode: mean)\n",
      "Not setting metadata\n",
      "0 projection items activated\n",
      "Loading data for 45 events and 176 original time points ...\n",
      "0 bad epochs dropped\n",
      "45 matching events found\n",
      "Applying baseline correction (mode: mean)\n",
      "Not setting metadata\n",
      "0 projection items activated\n",
      "Loading data for 45 events and 176 original time points ...\n",
      "0 bad epochs dropped\n"
     ]
    }
   ],
   "source": [
    "import multiprocessing\n",
    "from tqdm import tqdm\n",
    "data=dict()\n",
    "for i in range(len(raw_data)):\n",
    "    data[i+1]={\n",
    "    2:mne.Epochs(raw_data[i], events[0], event_id=1).get_data(),\n",
    "    4:mne.Epochs(raw_data[i], events[0], event_id=2).get_data(),\n",
    "    6:mne.Epochs(raw_data[i], events[0], event_id=4).get_data(),\n",
    "    8:mne.Epochs(raw_data[i], events[0], event_id=5).get_data(),\n",
    "    }"
   ]
  },
  {
   "cell_type": "code",
   "execution_count": 35,
   "metadata": {},
   "outputs": [],
   "source": [
    "from skimage.restoration import denoise_wavelet\n",
    "class wt_denoiser:\n",
    "    def __init__(self, subject,freqs,sfreq =250,t_interval=None,n_cycles=None,cl_level=None,cmap=None):\n",
    "        self.subject = subject\n",
    "        self.cmap = cmap\n",
    "        self.cl_level = cl_level\n",
    "        self.freqs =freqs\n",
    "        self.sfreq = sfreq\n",
    "        self.t_interval = t_interval\n",
    "        self.n_cycles = n_cycles\n",
    "    \n",
    "    def denoise(self):\n",
    "        sub_data = data[self.subject][self.cl_level]\n",
    "#         print(sub_data.shape)\n",
    "        sub_denoised = []\n",
    "        # Traverse through each trial\n",
    "        for i in range (sub_data.shape[0]):\n",
    "            # Extract single triala data (shape: 64 X 176)\n",
    "            trial_data = sub_data[i]\n",
    "            trial_denoised = []\n",
    "            # Loop through channels (64)\n",
    "            for j in range(trial_data.shape[0]):\n",
    "                channel_data = trial_data[j]\n",
    "                denoised_channel = denoise_wavelet(channel_data,method='BayesShrink',mode='soft', \n",
    "                                                   wavelet_levels=3, wavelet=\"sym8\")\n",
    "                trial_denoised.append(denoised_channel)\n",
    "            sub_denoised.append(trial_denoised)\n",
    "          \n",
    "        return mne.EpochsArray(np.array(sub_denoised),info=info)\n",
    "    \n",
    "    def get_wt_array (self):\n",
    "        # EXtract epoch data and get wt \n",
    "        epoch_data = self.denoise()\n",
    "        wavelets = mne.time_frequency.tfr_array_morlet(epoch_data,sfreq=self.sfreq,\n",
    "                                                       freqs=self.freqs,n_cycles=self.n_cycles,output=\"power\")\n",
    "#         print(wavelets.shape)\n",
    "        wavelet_interval = wavelets[:,:,:,self.t_interval[0]:self.t_interval[1]]\n",
    "        wavelet_interval = np.mean (wavelet_interval,axis=(2,3))\n",
    "        \n",
    "        return wavelet_interval\n",
    "    def generate_topos (self,path):\n",
    "        sub_psd = self.get_wt_array()\n",
    "        for i in range (sub_psd.shape[0]):\n",
    "            mean_psd = sub_psd[i]\n",
    "#             print(mean_psd)\n",
    "            # Save topo and load it\n",
    "            fig=mne.viz.plot_topomap(mean_psd,pos=info,cmap= self.cmap,contours=False,show=False)\n",
    "            fig_name=\"Sub_\" + str(self.subject) + \"-CL_\"+ str(self.cl_level)+\"-Trial_\" + str(i) + \"-Interv_\" + str(int(self.t_interval[1]/25)) + \".png\"\n",
    "            interval = \"interv\"+str(int(self.t_interval[1]/25))\n",
    "            fig[0].get_figure().savefig(os.path.join(path,interval,\"cl\"+str(self.cl_level),fig_name),bbox_inches='tight', transparent=True,\n",
    "                                         pad_inches=0)\n",
    "            plt.close(\"all\")\n",
    "            plt.show(\"off\")\n",
    "         \n",
    "    "
   ]
  },
  {
   "cell_type": "code",
   "execution_count": 33,
   "metadata": {},
   "outputs": [
    {
     "name": "stderr",
     "output_type": "stream",
     "text": [
      "\r",
      "  0%|                                                    | 0/11 [00:00<?, ?it/s]"
     ]
    },
    {
     "name": "stdout",
     "output_type": "stream",
     "text": [
      "(45, 64, 176)\n",
      "45 matching events found\n",
      "No baseline correction applied\n",
      "Not setting metadata\n",
      "0 projection items activated\n",
      "0 bad epochs dropped\n"
     ]
    },
    {
     "name": "stderr",
     "output_type": "stream",
     "text": [
      "\r",
      "  9%|████                                        | 1/11 [00:10<01:44, 10.41s/it]"
     ]
    },
    {
     "name": "stdout",
     "output_type": "stream",
     "text": [
      "(45, 64, 176)\n",
      "45 matching events found\n",
      "No baseline correction applied\n",
      "Not setting metadata\n",
      "0 projection items activated\n",
      "0 bad epochs dropped\n"
     ]
    },
    {
     "name": "stderr",
     "output_type": "stream",
     "text": [
      "\r",
      " 18%|████████                                    | 2/11 [00:20<01:32, 10.30s/it]"
     ]
    },
    {
     "name": "stdout",
     "output_type": "stream",
     "text": [
      "(45, 64, 176)\n",
      "45 matching events found\n",
      "No baseline correction applied\n",
      "Not setting metadata\n",
      "0 projection items activated\n",
      "0 bad epochs dropped\n"
     ]
    },
    {
     "name": "stderr",
     "output_type": "stream",
     "text": [
      "\r",
      " 27%|████████████                                | 3/11 [00:31<01:26, 10.75s/it]"
     ]
    },
    {
     "name": "stdout",
     "output_type": "stream",
     "text": [
      "(45, 64, 176)\n",
      "45 matching events found\n",
      "No baseline correction applied\n",
      "Not setting metadata\n",
      "0 projection items activated\n",
      "0 bad epochs dropped\n"
     ]
    },
    {
     "name": "stderr",
     "output_type": "stream",
     "text": [
      " 27%|████████████                                | 3/11 [00:36<01:38, 12.28s/it]\n"
     ]
    },
    {
     "ename": "KeyboardInterrupt",
     "evalue": "",
     "output_type": "error",
     "traceback": [
      "\u001b[0;31m---------------------------------------------------------------------------\u001b[0m",
      "\u001b[0;31mKeyboardInterrupt\u001b[0m                         Traceback (most recent call last)",
      "Input \u001b[0;32mIn [33]\u001b[0m, in \u001b[0;36m<module>\u001b[0;34m\u001b[0m\n\u001b[1;32m      6\u001b[0m \u001b[38;5;28;01mfor\u001b[39;00m sub \u001b[38;5;129;01min\u001b[39;00m tqdm(data):\n\u001b[1;32m      7\u001b[0m     topo_gen \u001b[38;5;241m=\u001b[39m wt_denoiser(subject\u001b[38;5;241m=\u001b[39msub,freqs\u001b[38;5;241m=\u001b[39mfrqs,t_interval\u001b[38;5;241m=\u001b[39mt_interval,\n\u001b[1;32m      8\u001b[0m                            n_cycles\u001b[38;5;241m=\u001b[39m n_cycles,cl_level\u001b[38;5;241m=\u001b[39mcl_level,cmap\u001b[38;5;241m=\u001b[39m\u001b[38;5;124m\"\u001b[39m\u001b[38;5;124mGreens\u001b[39m\u001b[38;5;124m\"\u001b[39m)\n\u001b[0;32m----> 9\u001b[0m     \u001b[43mtopo_gen\u001b[49m\u001b[38;5;241;43m.\u001b[39;49m\u001b[43mgenerate_topos\u001b[49m\u001b[43m(\u001b[49m\u001b[43mpath\u001b[49m\u001b[43m,\u001b[49m\u001b[43mcmap\u001b[49m\u001b[38;5;241;43m=\u001b[39;49m\u001b[38;5;124;43m\"\u001b[39;49m\u001b[38;5;124;43mReds\u001b[39;49m\u001b[38;5;124;43m\"\u001b[39;49m\u001b[43m)\u001b[49m\n",
      "Input \u001b[0;32mIn [32]\u001b[0m, in \u001b[0;36mwt_denoiser.generate_topos\u001b[0;34m(self, path, cmap)\u001b[0m\n\u001b[1;32m     49\u001b[0m fig_name\u001b[38;5;241m=\u001b[39m\u001b[38;5;124m\"\u001b[39m\u001b[38;5;124mSub_\u001b[39m\u001b[38;5;124m\"\u001b[39m \u001b[38;5;241m+\u001b[39m \u001b[38;5;28mstr\u001b[39m(\u001b[38;5;28mself\u001b[39m\u001b[38;5;241m.\u001b[39msubject) \u001b[38;5;241m+\u001b[39m \u001b[38;5;124m\"\u001b[39m\u001b[38;5;124m-CL_\u001b[39m\u001b[38;5;124m\"\u001b[39m\u001b[38;5;241m+\u001b[39m \u001b[38;5;28mstr\u001b[39m(\u001b[38;5;28mself\u001b[39m\u001b[38;5;241m.\u001b[39mcl_level)\u001b[38;5;241m+\u001b[39m\u001b[38;5;124m\"\u001b[39m\u001b[38;5;124m-Trial_\u001b[39m\u001b[38;5;124m\"\u001b[39m \u001b[38;5;241m+\u001b[39m \u001b[38;5;28mstr\u001b[39m(i) \u001b[38;5;241m+\u001b[39m \u001b[38;5;124m\"\u001b[39m\u001b[38;5;124m-Interv_\u001b[39m\u001b[38;5;124m\"\u001b[39m \u001b[38;5;241m+\u001b[39m \u001b[38;5;28mstr\u001b[39m(\u001b[38;5;28mint\u001b[39m(\u001b[38;5;28mself\u001b[39m\u001b[38;5;241m.\u001b[39mt_interval[\u001b[38;5;241m1\u001b[39m]\u001b[38;5;241m/\u001b[39m\u001b[38;5;241m25\u001b[39m)) \u001b[38;5;241m+\u001b[39m \u001b[38;5;124m\"\u001b[39m\u001b[38;5;124m.png\u001b[39m\u001b[38;5;124m\"\u001b[39m\n\u001b[1;32m     50\u001b[0m interval \u001b[38;5;241m=\u001b[39m \u001b[38;5;124m\"\u001b[39m\u001b[38;5;124minterv\u001b[39m\u001b[38;5;124m\"\u001b[39m\u001b[38;5;241m+\u001b[39m\u001b[38;5;28mstr\u001b[39m(\u001b[38;5;28mint\u001b[39m(\u001b[38;5;28mself\u001b[39m\u001b[38;5;241m.\u001b[39mt_interval[\u001b[38;5;241m1\u001b[39m]\u001b[38;5;241m/\u001b[39m\u001b[38;5;241m25\u001b[39m))\n\u001b[0;32m---> 51\u001b[0m \u001b[43mfig\u001b[49m\u001b[43m[\u001b[49m\u001b[38;5;241;43m0\u001b[39;49m\u001b[43m]\u001b[49m\u001b[38;5;241;43m.\u001b[39;49m\u001b[43mget_figure\u001b[49m\u001b[43m(\u001b[49m\u001b[43m)\u001b[49m\u001b[38;5;241;43m.\u001b[39;49m\u001b[43msavefig\u001b[49m\u001b[43m(\u001b[49m\u001b[43mos\u001b[49m\u001b[38;5;241;43m.\u001b[39;49m\u001b[43mpath\u001b[49m\u001b[38;5;241;43m.\u001b[39;49m\u001b[43mjoin\u001b[49m\u001b[43m(\u001b[49m\u001b[43mpath\u001b[49m\u001b[43m,\u001b[49m\u001b[43minterval\u001b[49m\u001b[43m,\u001b[49m\u001b[38;5;124;43m\"\u001b[39;49m\u001b[38;5;124;43mcl\u001b[39;49m\u001b[38;5;124;43m\"\u001b[39;49m\u001b[38;5;241;43m+\u001b[39;49m\u001b[38;5;28;43mstr\u001b[39;49m\u001b[43m(\u001b[49m\u001b[38;5;28;43mself\u001b[39;49m\u001b[38;5;241;43m.\u001b[39;49m\u001b[43mcl_level\u001b[49m\u001b[43m)\u001b[49m\u001b[43m,\u001b[49m\u001b[43mfig_name\u001b[49m\u001b[43m)\u001b[49m\u001b[43m,\u001b[49m\u001b[43mbbox_inches\u001b[49m\u001b[38;5;241;43m=\u001b[39;49m\u001b[38;5;124;43m'\u001b[39;49m\u001b[38;5;124;43mtight\u001b[39;49m\u001b[38;5;124;43m'\u001b[39;49m\u001b[43m,\u001b[49m\u001b[43m \u001b[49m\u001b[43mtransparent\u001b[49m\u001b[38;5;241;43m=\u001b[39;49m\u001b[38;5;28;43;01mTrue\u001b[39;49;00m\u001b[43m,\u001b[49m\n\u001b[1;32m     52\u001b[0m \u001b[43m                             \u001b[49m\u001b[43mpad_inches\u001b[49m\u001b[38;5;241;43m=\u001b[39;49m\u001b[38;5;241;43m0\u001b[39;49m\u001b[43m)\u001b[49m\n\u001b[1;32m     53\u001b[0m plt\u001b[38;5;241m.\u001b[39mclose(\u001b[38;5;124m\"\u001b[39m\u001b[38;5;124mall\u001b[39m\u001b[38;5;124m\"\u001b[39m)\n\u001b[1;32m     54\u001b[0m plt\u001b[38;5;241m.\u001b[39mshow(\u001b[38;5;124m\"\u001b[39m\u001b[38;5;124moff\u001b[39m\u001b[38;5;124m\"\u001b[39m)\n",
      "File \u001b[0;32m/usr/local/lib/python3.8/dist-packages/matplotlib/figure.py:3019\u001b[0m, in \u001b[0;36mFigure.savefig\u001b[0;34m(self, fname, transparent, **kwargs)\u001b[0m\n\u001b[1;32m   3015\u001b[0m     \u001b[38;5;28;01mfor\u001b[39;00m ax \u001b[38;5;129;01min\u001b[39;00m \u001b[38;5;28mself\u001b[39m\u001b[38;5;241m.\u001b[39maxes:\n\u001b[1;32m   3016\u001b[0m         stack\u001b[38;5;241m.\u001b[39menter_context(\n\u001b[1;32m   3017\u001b[0m             ax\u001b[38;5;241m.\u001b[39mpatch\u001b[38;5;241m.\u001b[39m_cm_set(facecolor\u001b[38;5;241m=\u001b[39m\u001b[38;5;124m'\u001b[39m\u001b[38;5;124mnone\u001b[39m\u001b[38;5;124m'\u001b[39m, edgecolor\u001b[38;5;241m=\u001b[39m\u001b[38;5;124m'\u001b[39m\u001b[38;5;124mnone\u001b[39m\u001b[38;5;124m'\u001b[39m))\n\u001b[0;32m-> 3019\u001b[0m \u001b[38;5;28;43mself\u001b[39;49m\u001b[38;5;241;43m.\u001b[39;49m\u001b[43mcanvas\u001b[49m\u001b[38;5;241;43m.\u001b[39;49m\u001b[43mprint_figure\u001b[49m\u001b[43m(\u001b[49m\u001b[43mfname\u001b[49m\u001b[43m,\u001b[49m\u001b[43m \u001b[49m\u001b[38;5;241;43m*\u001b[39;49m\u001b[38;5;241;43m*\u001b[39;49m\u001b[43mkwargs\u001b[49m\u001b[43m)\u001b[49m\n",
      "File \u001b[0;32m/usr/local/lib/python3.8/dist-packages/matplotlib/backend_bases.py:2319\u001b[0m, in \u001b[0;36mFigureCanvasBase.print_figure\u001b[0;34m(self, filename, dpi, facecolor, edgecolor, orientation, format, bbox_inches, pad_inches, bbox_extra_artists, backend, **kwargs)\u001b[0m\n\u001b[1;32m   2315\u001b[0m \u001b[38;5;28;01mtry\u001b[39;00m:\n\u001b[1;32m   2316\u001b[0m     \u001b[38;5;66;03m# _get_renderer may change the figure dpi (as vector formats\u001b[39;00m\n\u001b[1;32m   2317\u001b[0m     \u001b[38;5;66;03m# force the figure dpi to 72), so we need to set it again here.\u001b[39;00m\n\u001b[1;32m   2318\u001b[0m     \u001b[38;5;28;01mwith\u001b[39;00m cbook\u001b[38;5;241m.\u001b[39m_setattr_cm(\u001b[38;5;28mself\u001b[39m\u001b[38;5;241m.\u001b[39mfigure, dpi\u001b[38;5;241m=\u001b[39mdpi):\n\u001b[0;32m-> 2319\u001b[0m         result \u001b[38;5;241m=\u001b[39m \u001b[43mprint_method\u001b[49m\u001b[43m(\u001b[49m\n\u001b[1;32m   2320\u001b[0m \u001b[43m            \u001b[49m\u001b[43mfilename\u001b[49m\u001b[43m,\u001b[49m\n\u001b[1;32m   2321\u001b[0m \u001b[43m            \u001b[49m\u001b[43mfacecolor\u001b[49m\u001b[38;5;241;43m=\u001b[39;49m\u001b[43mfacecolor\u001b[49m\u001b[43m,\u001b[49m\n\u001b[1;32m   2322\u001b[0m \u001b[43m            \u001b[49m\u001b[43medgecolor\u001b[49m\u001b[38;5;241;43m=\u001b[39;49m\u001b[43medgecolor\u001b[49m\u001b[43m,\u001b[49m\n\u001b[1;32m   2323\u001b[0m \u001b[43m            \u001b[49m\u001b[43morientation\u001b[49m\u001b[38;5;241;43m=\u001b[39;49m\u001b[43morientation\u001b[49m\u001b[43m,\u001b[49m\n\u001b[1;32m   2324\u001b[0m \u001b[43m            \u001b[49m\u001b[43mbbox_inches_restore\u001b[49m\u001b[38;5;241;43m=\u001b[39;49m\u001b[43m_bbox_inches_restore\u001b[49m\u001b[43m,\u001b[49m\n\u001b[1;32m   2325\u001b[0m \u001b[43m            \u001b[49m\u001b[38;5;241;43m*\u001b[39;49m\u001b[38;5;241;43m*\u001b[39;49m\u001b[43mkwargs\u001b[49m\u001b[43m)\u001b[49m\n\u001b[1;32m   2326\u001b[0m \u001b[38;5;28;01mfinally\u001b[39;00m:\n\u001b[1;32m   2327\u001b[0m     \u001b[38;5;28;01mif\u001b[39;00m bbox_inches \u001b[38;5;129;01mand\u001b[39;00m restore_bbox:\n",
      "File \u001b[0;32m/usr/local/lib/python3.8/dist-packages/matplotlib/backend_bases.py:1648\u001b[0m, in \u001b[0;36m_check_savefig_extra_args.<locals>.wrapper\u001b[0;34m(*args, **kwargs)\u001b[0m\n\u001b[1;32m   1640\u001b[0m     _api\u001b[38;5;241m.\u001b[39mwarn_deprecated(\n\u001b[1;32m   1641\u001b[0m         \u001b[38;5;124m'\u001b[39m\u001b[38;5;124m3.3\u001b[39m\u001b[38;5;124m'\u001b[39m, name\u001b[38;5;241m=\u001b[39mname, removal\u001b[38;5;241m=\u001b[39m\u001b[38;5;124m'\u001b[39m\u001b[38;5;124m3.6\u001b[39m\u001b[38;5;124m'\u001b[39m,\n\u001b[1;32m   1642\u001b[0m         message\u001b[38;5;241m=\u001b[39m\u001b[38;5;124m'\u001b[39m\u001b[38;5;132;01m%(name)s\u001b[39;00m\u001b[38;5;124m() got unexpected keyword argument \u001b[39m\u001b[38;5;124m\"\u001b[39m\u001b[38;5;124m'\u001b[39m\n\u001b[1;32m   1643\u001b[0m                 \u001b[38;5;241m+\u001b[39m arg \u001b[38;5;241m+\u001b[39m \u001b[38;5;124m'\u001b[39m\u001b[38;5;124m\"\u001b[39m\u001b[38;5;124m which is no longer supported as of \u001b[39m\u001b[38;5;124m'\u001b[39m\n\u001b[1;32m   1644\u001b[0m                 \u001b[38;5;124m'\u001b[39m\u001b[38;5;132;01m%(since)s\u001b[39;00m\u001b[38;5;124m and will become an error \u001b[39m\u001b[38;5;124m'\u001b[39m\n\u001b[1;32m   1645\u001b[0m                 \u001b[38;5;124m'\u001b[39m\u001b[38;5;132;01m%(removal)s\u001b[39;00m\u001b[38;5;124m'\u001b[39m)\n\u001b[1;32m   1646\u001b[0m     kwargs\u001b[38;5;241m.\u001b[39mpop(arg)\n\u001b[0;32m-> 1648\u001b[0m \u001b[38;5;28;01mreturn\u001b[39;00m \u001b[43mfunc\u001b[49m\u001b[43m(\u001b[49m\u001b[38;5;241;43m*\u001b[39;49m\u001b[43margs\u001b[49m\u001b[43m,\u001b[49m\u001b[43m \u001b[49m\u001b[38;5;241;43m*\u001b[39;49m\u001b[38;5;241;43m*\u001b[39;49m\u001b[43mkwargs\u001b[49m\u001b[43m)\u001b[49m\n",
      "File \u001b[0;32m/usr/local/lib/python3.8/dist-packages/matplotlib/_api/deprecation.py:412\u001b[0m, in \u001b[0;36mdelete_parameter.<locals>.wrapper\u001b[0;34m(*inner_args, **inner_kwargs)\u001b[0m\n\u001b[1;32m    402\u001b[0m     deprecation_addendum \u001b[38;5;241m=\u001b[39m (\n\u001b[1;32m    403\u001b[0m         \u001b[38;5;124mf\u001b[39m\u001b[38;5;124m\"\u001b[39m\u001b[38;5;124mIf any parameter follows \u001b[39m\u001b[38;5;132;01m{\u001b[39;00mname\u001b[38;5;132;01m!r}\u001b[39;00m\u001b[38;5;124m, they should be passed as \u001b[39m\u001b[38;5;124m\"\u001b[39m\n\u001b[1;32m    404\u001b[0m         \u001b[38;5;124mf\u001b[39m\u001b[38;5;124m\"\u001b[39m\u001b[38;5;124mkeyword, not positionally.\u001b[39m\u001b[38;5;124m\"\u001b[39m)\n\u001b[1;32m    405\u001b[0m     warn_deprecated(\n\u001b[1;32m    406\u001b[0m         since,\n\u001b[1;32m    407\u001b[0m         name\u001b[38;5;241m=\u001b[39m\u001b[38;5;28mrepr\u001b[39m(name),\n\u001b[0;32m   (...)\u001b[0m\n\u001b[1;32m    410\u001b[0m                  \u001b[38;5;28;01melse\u001b[39;00m deprecation_addendum,\n\u001b[1;32m    411\u001b[0m         \u001b[38;5;241m*\u001b[39m\u001b[38;5;241m*\u001b[39mkwargs)\n\u001b[0;32m--> 412\u001b[0m \u001b[38;5;28;01mreturn\u001b[39;00m \u001b[43mfunc\u001b[49m\u001b[43m(\u001b[49m\u001b[38;5;241;43m*\u001b[39;49m\u001b[43minner_args\u001b[49m\u001b[43m,\u001b[49m\u001b[43m \u001b[49m\u001b[38;5;241;43m*\u001b[39;49m\u001b[38;5;241;43m*\u001b[39;49m\u001b[43minner_kwargs\u001b[49m\u001b[43m)\u001b[49m\n",
      "File \u001b[0;32m/usr/local/lib/python3.8/dist-packages/matplotlib/backends/backend_agg.py:541\u001b[0m, in \u001b[0;36mFigureCanvasAgg.print_png\u001b[0;34m(self, filename_or_obj, metadata, pil_kwargs, *args)\u001b[0m\n\u001b[1;32m    494\u001b[0m \u001b[38;5;124;03m\"\"\"\u001b[39;00m\n\u001b[1;32m    495\u001b[0m \u001b[38;5;124;03mWrite the figure to a PNG file.\u001b[39;00m\n\u001b[1;32m    496\u001b[0m \n\u001b[0;32m   (...)\u001b[0m\n\u001b[1;32m    538\u001b[0m \u001b[38;5;124;03m    *metadata*, including the default 'Software' key.\u001b[39;00m\n\u001b[1;32m    539\u001b[0m \u001b[38;5;124;03m\"\"\"\u001b[39;00m\n\u001b[1;32m    540\u001b[0m FigureCanvasAgg\u001b[38;5;241m.\u001b[39mdraw(\u001b[38;5;28mself\u001b[39m)\n\u001b[0;32m--> 541\u001b[0m \u001b[43mmpl\u001b[49m\u001b[38;5;241;43m.\u001b[39;49m\u001b[43mimage\u001b[49m\u001b[38;5;241;43m.\u001b[39;49m\u001b[43mimsave\u001b[49m\u001b[43m(\u001b[49m\n\u001b[1;32m    542\u001b[0m \u001b[43m    \u001b[49m\u001b[43mfilename_or_obj\u001b[49m\u001b[43m,\u001b[49m\u001b[43m \u001b[49m\u001b[38;5;28;43mself\u001b[39;49m\u001b[38;5;241;43m.\u001b[39;49m\u001b[43mbuffer_rgba\u001b[49m\u001b[43m(\u001b[49m\u001b[43m)\u001b[49m\u001b[43m,\u001b[49m\u001b[43m \u001b[49m\u001b[38;5;28;43mformat\u001b[39;49m\u001b[38;5;241;43m=\u001b[39;49m\u001b[38;5;124;43m\"\u001b[39;49m\u001b[38;5;124;43mpng\u001b[39;49m\u001b[38;5;124;43m\"\u001b[39;49m\u001b[43m,\u001b[49m\u001b[43m \u001b[49m\u001b[43morigin\u001b[49m\u001b[38;5;241;43m=\u001b[39;49m\u001b[38;5;124;43m\"\u001b[39;49m\u001b[38;5;124;43mupper\u001b[39;49m\u001b[38;5;124;43m\"\u001b[39;49m\u001b[43m,\u001b[49m\n\u001b[1;32m    543\u001b[0m \u001b[43m    \u001b[49m\u001b[43mdpi\u001b[49m\u001b[38;5;241;43m=\u001b[39;49m\u001b[38;5;28;43mself\u001b[39;49m\u001b[38;5;241;43m.\u001b[39;49m\u001b[43mfigure\u001b[49m\u001b[38;5;241;43m.\u001b[39;49m\u001b[43mdpi\u001b[49m\u001b[43m,\u001b[49m\u001b[43m \u001b[49m\u001b[43mmetadata\u001b[49m\u001b[38;5;241;43m=\u001b[39;49m\u001b[43mmetadata\u001b[49m\u001b[43m,\u001b[49m\u001b[43m \u001b[49m\u001b[43mpil_kwargs\u001b[49m\u001b[38;5;241;43m=\u001b[39;49m\u001b[43mpil_kwargs\u001b[49m\u001b[43m)\u001b[49m\n",
      "File \u001b[0;32m/usr/local/lib/python3.8/dist-packages/matplotlib/image.py:1675\u001b[0m, in \u001b[0;36mimsave\u001b[0;34m(fname, arr, vmin, vmax, cmap, format, origin, dpi, metadata, pil_kwargs)\u001b[0m\n\u001b[1;32m   1673\u001b[0m pil_kwargs\u001b[38;5;241m.\u001b[39msetdefault(\u001b[38;5;124m\"\u001b[39m\u001b[38;5;124mformat\u001b[39m\u001b[38;5;124m\"\u001b[39m, \u001b[38;5;28mformat\u001b[39m)\n\u001b[1;32m   1674\u001b[0m pil_kwargs\u001b[38;5;241m.\u001b[39msetdefault(\u001b[38;5;124m\"\u001b[39m\u001b[38;5;124mdpi\u001b[39m\u001b[38;5;124m\"\u001b[39m, (dpi, dpi))\n\u001b[0;32m-> 1675\u001b[0m \u001b[43mimage\u001b[49m\u001b[38;5;241;43m.\u001b[39;49m\u001b[43msave\u001b[49m\u001b[43m(\u001b[49m\u001b[43mfname\u001b[49m\u001b[43m,\u001b[49m\u001b[43m \u001b[49m\u001b[38;5;241;43m*\u001b[39;49m\u001b[38;5;241;43m*\u001b[39;49m\u001b[43mpil_kwargs\u001b[49m\u001b[43m)\u001b[49m\n",
      "File \u001b[0;32m/usr/local/lib/python3.8/dist-packages/PIL/Image.py:2216\u001b[0m, in \u001b[0;36mImage.save\u001b[0;34m(self, fp, format, **params)\u001b[0m\n\u001b[1;32m   2213\u001b[0m \u001b[38;5;28;01mfinally\u001b[39;00m:\n\u001b[1;32m   2214\u001b[0m     \u001b[38;5;66;03m# do what we can to clean up\u001b[39;00m\n\u001b[1;32m   2215\u001b[0m     \u001b[38;5;28;01mif\u001b[39;00m open_fp:\n\u001b[0;32m-> 2216\u001b[0m         \u001b[43mfp\u001b[49m\u001b[38;5;241;43m.\u001b[39;49m\u001b[43mclose\u001b[49m\u001b[43m(\u001b[49m\u001b[43m)\u001b[49m\n",
      "\u001b[0;31mKeyboardInterrupt\u001b[0m: "
     ]
    },
    {
     "data": {
      "image/png": "[encoded data removed]",
      "text/plain": [
       "<Figure size 432x288 with 1 Axes>"
      ]
     },
     "metadata": {},
     "output_type": "display_data"
    }
   ],
   "source": [
    "path =\"/media/kashraf/1C6B-DB18/single_trial/theta/full/\"\n",
    "frqs = np.arange (4,7)\n",
    "n_cycles = (1/3)*frqs\n",
    "t_interval = (0,25)\n",
    "cl_level = 2\n",
    "for sub in tqdm(data):\n",
    "    topo_gen = wt_denoiser(subject=sub,freqs=frqs,t_interval=t_interval,\n",
    "                           n_cycles= n_cycles,cl_level=cl_level,cmap=\"Greens\")\n",
    "    topo_gen.generate_topos(path)\n",
    "    \n"
   ]
  },
  {
   "cell_type": "markdown",
   "metadata": {},
   "source": [
    "### Single trial data for each cognitive load"
   ]
  },
  {
   "cell_type": "code",
   "execution_count": 5,
   "metadata": {},
   "outputs": [],
   "source": [
    "cl2_data=np.concatenate([data[sub][2] for sub in data])\n",
    "cl4_data=np.concatenate([data[sub][4] for sub in data])\n",
    "cl6_data=np.concatenate([data[sub][6] for sub in data])\n",
    "cl8_data=np.concatenate([data[sub][8] for sub in data])\n"
   ]
  },
  {
   "cell_type": "markdown",
   "metadata": {},
   "source": [
    "#### Single trial power spectral density"
   ]
  },
  {
   "cell_type": "code",
   "execution_count": 6,
   "metadata": {},
   "outputs": [],
   "source": [
    "# def psd_gen(dataset):\n",
    "#     psds=[]\n",
    "#     for i in tqdm(range(dataset.shape[0])):\n",
    "#         trial_data=np.reshape(dataset[i],(1,64,176))\n",
    "#         trial_data=mne.EpochsArray(trial_data,info=raw_data[0].info,verbose=0)\n",
    "#         psd,freq= mne.time_frequency.psd_welch(trial_data,n_fft=176,verbose=0)\n",
    "#         psd= np.average(psd,axis=2).flatten()\n",
    "#         psds.append(psd)\n",
    "#     return np.array(psds)\n",
    "# cl2_psd=psd_gen(cl2_data)\n",
    "# cl4_psd=psd_gen(cl4_data)\n",
    "# cl6_psd=psd_gen(cl6_data)\n",
    "# cl8_psd=psd_gen(cl8_data)"
   ]
  },
  {
   "cell_type": "markdown",
   "metadata": {},
   "source": [
    "#### PCA and choice of components"
   ]
  },
  {
   "cell_type": "code",
   "execution_count": 7,
   "metadata": {},
   "outputs": [
    {
     "data": {
      "image/png": "[encoded data removed]",
      "text/plain": [
       "<Figure size 864x576 with 4 Axes>"
      ]
     },
     "metadata": {
      "needs_background": "light"
     },
     "output_type": "display_data"
    }
   ],
   "source": [
    "from sklearn.decomposition import PCA\n",
    "pca=PCA()\n",
    "explained_var2=pca.fit(np.concatenate(cl2_data)).explained_variance_\n",
    "explained_var4=pca.fit(np.concatenate(cl4_data)).explained_variance_\n",
    "explained_var6=pca.fit(np.concatenate(cl6_data)).explained_variance_\n",
    "explained_var8=pca.fit(np.concatenate(cl8_data)).explained_variance_\n",
    "titles=[\"CL-2\",\"CL-4\",\"CL-6\",\"CL-8\"]\n",
    "fig,axes=plt.subplots(nrows=2,ncols=2,figsize=(12,8))\n",
    "for ax, var,title in zip(axes.flatten(),[explained_var2,explained_var4,explained_var6,explained_var8],titles):\n",
    "    ax.plot(np.cumsum(var/sum(var)))\n",
    "    ax.set_title(title)\n",
    "    ax.set_ylabel(\"Explained variance\")\n",
    "    ax.set_xlabel(\"Components\")"
   ]
  },
  {
   "cell_type": "markdown",
   "metadata": {},
   "source": [
    "### Bootstrap sampling "
   ]
  },
  {
   "cell_type": "code",
   "execution_count": 8,
   "metadata": {},
   "outputs": [
    {
     "name": "stderr",
     "output_type": "stream",
     "text": [
      "100%|███████████████████████████████████████████| 11/11 [00:08<00:00,  1.26it/s]\n"
     ]
    }
   ],
   "source": [
    "from tqdm import tqdm\n",
    "\n",
    "n_trials= 20# Number of trials to be selected and be averaged out to give one ERP\n",
    "n_erp= 1000 # Nmber of ERPS required per subject per CL level. So for cL2 we have 1000*11 Erp\n",
    "\n",
    "def bootstrap(event,trials, n_trials,n_erps):\n",
    "    erps=[]\n",
    "    for i in range(n_erps):\n",
    "        t=np.random.choice(trials,n_trials)\n",
    "        erp = np.average(event[t],axis=0)\n",
    "        erps.append(erp)\n",
    "    return erps\n",
    "for i in tqdm(range(len(data))):\n",
    "    data[i+1][\"erp2\"]=bootstrap(data[i+1][2], data[i+1][2].shape[0],n_trials,n_erp)\n",
    "    data[i+1][\"erp4\"]=bootstrap(data[i+1][4], data[i+1][4].shape[0],n_trials,n_erp)\n",
    "    data[i+1][\"erp6\"]=bootstrap(data[i+1][6], data[i+1][6].shape[0],n_trials,n_erp)\n",
    "    data[i+1][\"erp8\"]=bootstrap(data[i+1][8], data[i+1][8].shape[0],n_trials,n_erp)\n",
    "\n",
    "## Transform our data into epoch array\n",
    "# from tqdm import tqdm\n",
    "# def bootstrap_process(start):\n"
   ]
  },
  {
   "cell_type": "code",
   "execution_count": 9,
   "metadata": {},
   "outputs": [],
   "source": [
    "# for sub in tqdm(data):\n",
    "#     for i in range(1000):\n",
    "#         data[sub][\"erp2\"][i]=np.reshape(data[sub][\"erp2\"][i],(1,64,176))\n",
    "#         data[sub][\"erp2\"][i]=mne.EpochsArray(data[sub][\"erp2\"][i],info=raw_data[0].info,verbose=0)\n",
    "\n",
    "#         data[sub][\"erp4\"][i]=np.reshape(data[sub][\"erp4\"][i],(1,64,176))\n",
    "#         data[sub][\"erp4\"][i]=mne.EpochsArray(data[sub][\"erp4\"][i],info=raw_data[0].info,verbose=0)\n",
    "\n",
    "#         data[sub][\"erp6\"][i]=np.reshape(data[sub][\"erp6\"][i],(1,64,176))\n",
    "#         data[sub][\"erp6\"][i]=mne.EpochsArray(data[sub][\"erp6\"][i],info=raw_data[0].info,verbose=0)\n",
    "\n",
    "#         data[sub][\"erp8\"][i]=np.reshape(data[sub][\"erp8\"][i],(1,64,176))\n",
    "#         data[sub][\"erp8\"][i]=mne.EpochsArray(data[sub][\"erp8\"][i],info=raw_data[0].info,verbose=0)"
   ]
  },
  {
   "cell_type": "code",
   "execution_count": 10,
   "metadata": {},
   "outputs": [],
   "source": [
    "# def psd_bootstrap(erp_level):\n",
    "#     psds=[]\n",
    "#     for sub in data:\n",
    "#         for i in range(1000):\n",
    "#             erp_data=data[sub][erp_level][i]\n",
    "#             psd,freq= mne.time_frequency.psd_welch(erp_data,n_fft=176,verbose=0)\n",
    "#             psd= np.average(psd,axis=2).flatten()\n",
    "#             psds.append(psd)\n",
    "#     return np.array(psds)\n",
    "# p_density_cl2=psd_bootstrap(\"erp2\")\n",
    "# p_density_cl4=psd_bootstrap(\"erp4\")\n",
    "# p_density_cl6=psd_bootstrap(\"erp6\")\n",
    "# p_density_cl8=psd_bootstrap(\"erp8\")\n",
    "            "
   ]
  },
  {
   "cell_type": "code",
   "execution_count": 11,
   "metadata": {},
   "outputs": [],
   "source": [
    "# recons=pca_projection_reconstruction(cl8_psd,p_density_cl8,1)\n",
    "# error= np.linalg.norm(recons-p_density_cl8,axis=1)\n",
    "# plt.hist(error)\n",
    "# plt.show()\n"
   ]
  },
  {
   "cell_type": "code",
   "execution_count": 12,
   "metadata": {},
   "outputs": [],
   "source": [
    "\n",
    "def pca_projection_reconstruction(trial_data,erp_data,n_components):\n",
    "    pca=PCA(n_components=n_components)\n",
    "    pca.fit(trial_data)\n",
    "    eigen_space=pca.components_\n",
    "    reconstructed=[]\n",
    "    for erp in erp_data:     \n",
    "    # Project Erp into these space\n",
    "        projected_erp=pca.transform(erp)\n",
    "        recons=np.dot(projected_erp,eigen_space)\n",
    "        reconstructed.append(recons)\n",
    "    return np.array(reconstructed)\n",
    "    "
   ]
  },
  {
   "cell_type": "code",
   "execution_count": 13,
   "metadata": {},
   "outputs": [],
   "source": [
    "# original_data=np.concatenate(cl4_data)\n",
    "# erps=np.array(data[1]['erp2'])\n",
    "# data_recon=pca_projection_reconstruction(original_data,erps,10)"
   ]
  },
  {
   "cell_type": "code",
   "execution_count": 14,
   "metadata": {},
   "outputs": [],
   "source": [
    "# error=erps-np.array(data_recon)\n",
    "# recon_error=[sum(np.linalg.norm(err,axis=1)) for err in error] "
   ]
  },
  {
   "cell_type": "code",
   "execution_count": 15,
   "metadata": {},
   "outputs": [],
   "source": [
    "def generate_rec_error(single_data,erp):\n",
    "    # generate reconstruction erros for boot strapp sample\n",
    "    reconstructed=pca_projection_reconstruction(trial_data=single_data,erp_data=erp,n_components=75)\n",
    "    error=erp-np.array(reconstructed)\n",
    "    recon_error=[sum(np.linalg.norm(err,axis=1)) for err in error]\n",
    "    return recon_error\n",
    "    "
   ]
  },
  {
   "cell_type": "code",
   "execution_count": 16,
   "metadata": {},
   "outputs": [],
   "source": [
    "def ci_data_selection(errors):\n",
    "    sorted_data=np.sort(errors)\n",
    "    l_limit= np.percentile(sorted_data,25)\n",
    "    u_limit=np.percentile(sorted_data,75)\n",
    "    id_selected=[]\n",
    "    for index , err in enumerate(errors):\n",
    "        if l_limit<=err and err<=u_limit:\n",
    "            id_selected.append(index)\n",
    "#         else:\n",
    "#             print(err)\n",
    "    return id_selected\n",
    "    "
   ]
  },
  {
   "cell_type": "code",
   "execution_count": 17,
   "metadata": {},
   "outputs": [
    {
     "name": "stderr",
     "output_type": "stream",
     "text": [
      "\r",
      "  0%|                                                    | 0/11 [00:00<?, ?it/s]"
     ]
    },
    {
     "name": "stdout",
     "output_type": "stream",
     "text": [
      "1000 matching events found\n",
      "No baseline correction applied\n",
      "Not setting metadata\n",
      "0 projection items activated\n",
      "0 bad epochs dropped\n",
      "1000 matching events found\n",
      "No baseline correction applied\n",
      "Not setting metadata\n",
      "0 projection items activated\n",
      "0 bad epochs dropped\n",
      "1000 matching events found\n",
      "No baseline correction applied\n",
      "Not setting metadata\n",
      "0 projection items activated\n",
      "0 bad epochs dropped\n",
      "1000 matching events found\n",
      "No baseline correction applied\n",
      "Not setting metadata\n",
      "0 projection items activated\n",
      "0 bad epochs dropped\n"
     ]
    },
    {
     "name": "stderr",
     "output_type": "stream",
     "text": [
      "\r",
      "  9%|████                                        | 1/11 [00:06<01:00,  6.00s/it]"
     ]
    },
    {
     "name": "stdout",
     "output_type": "stream",
     "text": [
      "1000 matching events found\n",
      "No baseline correction applied\n",
      "Not setting metadata\n",
      "0 projection items activated\n",
      "0 bad epochs dropped\n",
      "1000 matching events found\n",
      "No baseline correction applied\n",
      "Not setting metadata\n",
      "0 projection items activated\n",
      "0 bad epochs dropped\n",
      "1000 matching events found\n",
      "No baseline correction applied\n",
      "Not setting metadata\n",
      "0 projection items activated\n",
      "0 bad epochs dropped\n",
      "1000 matching events found\n",
      "No baseline correction applied\n",
      "Not setting metadata\n",
      "0 projection items activated\n",
      "0 bad epochs dropped\n"
     ]
    },
    {
     "name": "stderr",
     "output_type": "stream",
     "text": [
      "\r",
      " 18%|████████                                    | 2/11 [00:12<00:55,  6.22s/it]"
     ]
    },
    {
     "name": "stdout",
     "output_type": "stream",
     "text": [
      "1000 matching events found\n",
      "No baseline correction applied\n",
      "Not setting metadata\n",
      "0 projection items activated\n",
      "0 bad epochs dropped\n",
      "1000 matching events found\n",
      "No baseline correction applied\n",
      "Not setting metadata\n",
      "0 projection items activated\n",
      "0 bad epochs dropped\n",
      "1000 matching events found\n",
      "No baseline correction applied\n",
      "Not setting metadata\n",
      "0 projection items activated\n",
      "0 bad epochs dropped\n",
      "1000 matching events found\n",
      "No baseline correction applied\n",
      "Not setting metadata\n",
      "0 projection items activated\n",
      "0 bad epochs dropped\n"
     ]
    },
    {
     "name": "stderr",
     "output_type": "stream",
     "text": [
      "\r",
      " 27%|████████████                                | 3/11 [00:18<00:50,  6.37s/it]"
     ]
    },
    {
     "name": "stdout",
     "output_type": "stream",
     "text": [
      "1000 matching events found\n",
      "No baseline correction applied\n",
      "Not setting metadata\n",
      "0 projection items activated\n",
      "0 bad epochs dropped\n",
      "1000 matching events found\n",
      "No baseline correction applied\n",
      "Not setting metadata\n",
      "0 projection items activated\n",
      "0 bad epochs dropped\n",
      "1000 matching events found\n",
      "No baseline correction applied\n",
      "Not setting metadata\n",
      "0 projection items activated\n",
      "0 bad epochs dropped\n",
      "1000 matching events found\n",
      "No baseline correction applied\n",
      "Not setting metadata\n",
      "0 projection items activated\n",
      "0 bad epochs dropped\n"
     ]
    },
    {
     "name": "stderr",
     "output_type": "stream",
     "text": [
      "\r",
      " 36%|████████████████                            | 4/11 [00:24<00:42,  6.13s/it]"
     ]
    },
    {
     "name": "stdout",
     "output_type": "stream",
     "text": [
      "1000 matching events found\n",
      "No baseline correction applied\n",
      "Not setting metadata\n",
      "0 projection items activated\n",
      "0 bad epochs dropped\n",
      "1000 matching events found\n",
      "No baseline correction applied\n",
      "Not setting metadata\n",
      "0 projection items activated\n",
      "0 bad epochs dropped\n",
      "1000 matching events found\n",
      "No baseline correction applied\n",
      "Not setting metadata\n",
      "0 projection items activated\n",
      "0 bad epochs dropped\n",
      "1000 matching events found\n",
      "No baseline correction applied\n",
      "Not setting metadata\n",
      "0 projection items activated\n",
      "0 bad epochs dropped\n"
     ]
    },
    {
     "name": "stderr",
     "output_type": "stream",
     "text": [
      "\r",
      " 45%|████████████████████                        | 5/11 [00:30<00:36,  6.04s/it]"
     ]
    },
    {
     "name": "stdout",
     "output_type": "stream",
     "text": [
      "1000 matching events found\n",
      "No baseline correction applied\n",
      "Not setting metadata\n",
      "0 projection items activated\n",
      "0 bad epochs dropped\n",
      "1000 matching events found\n",
      "No baseline correction applied\n",
      "Not setting metadata\n",
      "0 projection items activated\n",
      "0 bad epochs dropped\n",
      "1000 matching events found\n",
      "No baseline correction applied\n",
      "Not setting metadata\n",
      "0 projection items activated\n",
      "0 bad epochs dropped\n",
      "1000 matching events found\n",
      "No baseline correction applied\n",
      "Not setting metadata\n",
      "0 projection items activated\n",
      "0 bad epochs dropped\n"
     ]
    },
    {
     "name": "stderr",
     "output_type": "stream",
     "text": [
      "\r",
      " 55%|████████████████████████                    | 6/11 [00:36<00:29,  5.89s/it]"
     ]
    },
    {
     "name": "stdout",
     "output_type": "stream",
     "text": [
      "1000 matching events found\n",
      "No baseline correction applied\n",
      "Not setting metadata\n",
      "0 projection items activated\n",
      "0 bad epochs dropped\n",
      "1000 matching events found\n",
      "No baseline correction applied\n",
      "Not setting metadata\n",
      "0 projection items activated\n",
      "0 bad epochs dropped\n",
      "1000 matching events found\n",
      "No baseline correction applied\n",
      "Not setting metadata\n",
      "0 projection items activated\n",
      "0 bad epochs dropped\n",
      "1000 matching events found\n",
      "No baseline correction applied\n",
      "Not setting metadata\n",
      "0 projection items activated\n",
      "0 bad epochs dropped\n"
     ]
    },
    {
     "name": "stderr",
     "output_type": "stream",
     "text": [
      "\r",
      " 64%|████████████████████████████                | 7/11 [00:41<00:23,  5.78s/it]"
     ]
    },
    {
     "name": "stdout",
     "output_type": "stream",
     "text": [
      "1000 matching events found\n",
      "No baseline correction applied\n",
      "Not setting metadata\n",
      "0 projection items activated\n",
      "0 bad epochs dropped\n",
      "1000 matching events found\n",
      "No baseline correction applied\n",
      "Not setting metadata\n",
      "0 projection items activated\n",
      "0 bad epochs dropped\n",
      "1000 matching events found\n",
      "No baseline correction applied\n",
      "Not setting metadata\n",
      "0 projection items activated\n",
      "0 bad epochs dropped\n",
      "1000 matching events found\n",
      "No baseline correction applied\n",
      "Not setting metadata\n",
      "0 projection items activated\n",
      "0 bad epochs dropped\n"
     ]
    },
    {
     "name": "stderr",
     "output_type": "stream",
     "text": [
      "\r",
      " 73%|████████████████████████████████            | 8/11 [00:47<00:17,  5.82s/it]"
     ]
    },
    {
     "name": "stdout",
     "output_type": "stream",
     "text": [
      "1000 matching events found\n",
      "No baseline correction applied\n",
      "Not setting metadata\n",
      "0 projection items activated\n",
      "0 bad epochs dropped\n",
      "1000 matching events found\n",
      "No baseline correction applied\n",
      "Not setting metadata\n",
      "0 projection items activated\n",
      "0 bad epochs dropped\n",
      "1000 matching events found\n",
      "No baseline correction applied\n",
      "Not setting metadata\n",
      "0 projection items activated\n",
      "0 bad epochs dropped\n",
      "1000 matching events found\n",
      "No baseline correction applied\n",
      "Not setting metadata\n",
      "0 projection items activated\n",
      "0 bad epochs dropped\n"
     ]
    },
    {
     "name": "stderr",
     "output_type": "stream",
     "text": [
      "\r",
      " 82%|████████████████████████████████████        | 9/11 [00:53<00:11,  5.88s/it]"
     ]
    },
    {
     "name": "stdout",
     "output_type": "stream",
     "text": [
      "1000 matching events found\n",
      "No baseline correction applied\n",
      "Not setting metadata\n",
      "0 projection items activated\n",
      "0 bad epochs dropped\n",
      "1000 matching events found\n",
      "No baseline correction applied\n",
      "Not setting metadata\n",
      "0 projection items activated\n",
      "0 bad epochs dropped\n",
      "1000 matching events found\n",
      "No baseline correction applied\n",
      "Not setting metadata\n",
      "0 projection items activated\n",
      "0 bad epochs dropped\n",
      "1000 matching events found\n",
      "No baseline correction applied\n",
      "Not setting metadata\n",
      "0 projection items activated\n",
      "0 bad epochs dropped\n"
     ]
    },
    {
     "name": "stderr",
     "output_type": "stream",
     "text": [
      "\r",
      " 91%|███████████████████████████████████████    | 10/11 [00:58<00:05,  5.71s/it]"
     ]
    },
    {
     "name": "stdout",
     "output_type": "stream",
     "text": [
      "1000 matching events found\n",
      "No baseline correction applied\n",
      "Not setting metadata\n",
      "0 projection items activated\n",
      "0 bad epochs dropped\n",
      "1000 matching events found\n",
      "No baseline correction applied\n",
      "Not setting metadata\n",
      "0 projection items activated\n",
      "0 bad epochs dropped\n",
      "1000 matching events found\n",
      "No baseline correction applied\n",
      "Not setting metadata\n",
      "0 projection items activated\n",
      "0 bad epochs dropped\n",
      "1000 matching events found\n",
      "No baseline correction applied\n",
      "Not setting metadata\n",
      "0 projection items activated\n",
      "0 bad epochs dropped\n"
     ]
    },
    {
     "name": "stderr",
     "output_type": "stream",
     "text": [
      "100%|███████████████████████████████████████████| 11/11 [01:04<00:00,  5.90s/it]\n"
     ]
    }
   ],
   "source": [
    "for sub in tqdm(data):\n",
    "    rec_error2=generate_rec_error(np.concatenate(data[sub][2]),data[sub][\"erp2\"])\n",
    "    index2=ci_data_selection(rec_error2)\n",
    "    data[sub][\"erp2\"]=mne.EpochsArray(data[sub][\"erp2\"],info=raw_data[2].info)[index2]\n",
    "    \n",
    "    rec_error4=generate_rec_error(np.concatenate(data[sub][4]),data[sub][\"erp4\"])\n",
    "    index4=ci_data_selection(rec_error4)\n",
    "    data[sub][\"erp4\"]=mne.EpochsArray(data[sub][\"erp4\"],info=raw_data[2].info)[index4]\n",
    "    \n",
    "    rec_error6=generate_rec_error(np.concatenate(data[sub][6]),data[sub][\"erp6\"])\n",
    "    index6=ci_data_selection(rec_error6)\n",
    "    data[sub][\"erp6\"]=mne.EpochsArray(data[sub][\"erp6\"],info=raw_data[2].info)[index6]\n",
    "    \n",
    "    rec_error8=generate_rec_error(np.concatenate(data[sub][8]),data[sub][\"erp8\"])\n",
    "    index8=ci_data_selection(rec_error8)\n",
    "    data[sub][\"erp8\"]=mne.EpochsArray(data[sub][\"erp8\"],info=raw_data[2].info)[index8]"
   ]
  },
  {
   "cell_type": "markdown",
   "metadata": {},
   "source": [
    "### Wavelet transform and interval data generation"
   ]
  },
  {
   "cell_type": "code",
   "execution_count": 18,
   "metadata": {},
   "outputs": [],
   "source": [
    "freqs= np.arange(1,30)\n",
    "n_c=freqs/3\n",
    "test = data[1][\"erp2\"]\n",
    "wt = mne.time_frequency.tfr_array_morlet(test,sfreq=250,freqs=freqs,n_cycles=n_c)"
   ]
  },
  {
   "cell_type": "code",
   "execution_count": 19,
   "metadata": {},
   "outputs": [],
   "source": [
    "from matplotlib import cm\n",
    "from multiprocessing import Manager\n",
    "manager=Manager()\n",
    "data_new=manager.dict()\n",
    "data_new= data\n",
    "\n",
    "class topo_generator:\n",
    "    def __init__(self, subject,freqs,sfreq =250,t_interval=None,n_cycles=None,cl_level=None):\n",
    "        self.subject = subject\n",
    "        self.freqs = freqs\n",
    "        self.sfreq = sfreq\n",
    "        self.n_cycles = n_cycles\n",
    "        self.cl_level = cl_level\n",
    "        self.t_interval = t_interval\n",
    "        \n",
    "    def get_wt_array (self):\n",
    "        # EXtract epoch data and get wt \n",
    "        epoch_data = data_new[self.subject][\"erp\"+str(self.cl_level)]\n",
    "        wavelets = mne.time_frequency.tfr_array_morlet(epoch_data,sfreq=self.sfreq,\n",
    "                                                       freqs=self.freqs,n_cycles=self.n_cycles,output=\"power\")\n",
    "#         print(wavelets.shape)\n",
    "        wavelet_interval = wavelets[:,:,:,self.t_interval[0]:self.t_interval[1]]\n",
    "        wavelet_interval = np.mean (wavelet_interval,axis=(2,3))\n",
    "        \n",
    "        return wavelet_interval\n",
    "    \n",
    "    def generate_topos (self,path,cmap):\n",
    "        sub_psd = self.get_wt_array()\n",
    "        for i in range (sub_psd.shape[0]):\n",
    "            mean_psd = sub_psd[i]\n",
    "#             print(mean_psd)\n",
    "            # Save topo and load it\n",
    "            fig=mne.viz.plot_topomap(mean_psd,pos=info,cmap=cmap,contours=False,show=False)\n",
    "            fig_name=\"Sub_\" + str(self.subject) + \"-CL_\"+ str(self.cl_level)+\"-Trial_\" + str(i) + \"-Interv_\" + str(int(self.t_interval[1]/25)) + \".png\"\n",
    "            interval = \"interv\"+str(int(self.t_interval[1]/25))\n",
    "            fig[0].get_figure().savefig(os.path.join(path,interval,\"cl\"+str(self.cl_level),fig_name),bbox_inches='tight', transparent=True,\n",
    "                                         pad_inches=0)\n",
    "            plt.close(\"all\")\n",
    "            plt.show(\"off\")\n",
    "            \n",
    "        \n"
   ]
  },
  {
   "cell_type": "code",
   "execution_count": 47,
   "metadata": {},
   "outputs": [
    {
     "name": "stderr",
     "output_type": "stream",
     "text": [
      "100%|████████████████████████████████████████████| 1/1 [02:11<00:00, 131.33s/it]\n",
      "100%|████████████████████████████████████████████| 1/1 [02:12<00:00, 132.57s/it]\n",
      "100%|████████████████████████████████████████████| 1/1 [02:13<00:00, 133.25s/it]\n",
      "100%|████████████████████████████████████████████| 1/1 [02:13<00:00, 133.96s/it]\n",
      "100%|████████████████████████████████████████████| 1/1 [02:14<00:00, 134.37s/it]\n",
      "100%|████████████████████████████████████████████| 1/1 [02:14<00:00, 134.77s/it]\n",
      "100%|████████████████████████████████████████████| 1/1 [02:15<00:00, 135.38s/it]\n",
      "100%|████████████████████████████████████████████| 1/1 [02:15<00:00, 135.41s/it]\n",
      "100%|████████████████████████████████████████████| 1/1 [02:15<00:00, 135.49s/it]\n",
      "100%|█████████████████████████████████████████████| 2/2 [03:07<00:00, 93.54s/it]\n"
     ]
    },
    {
     "name": "stdout",
     "output_type": "stream",
     "text": [
      "Done\n"
     ]
    }
   ],
   "source": [
    "frqs = np.arange (13,30)\n",
    "n_cycles = (1/3)*frqs\n",
    "t_interval = (150,175)\n",
    "cl_level = 2\n",
    "path = \"/media/kashraf/Elements/Dissertation/data/preprocessed/audio/beta/\"\n",
    "def generation_process(start,end):\n",
    "    for sub in tqdm(range(start,end)):\n",
    "        topo_gen = topo_generator(subject=sub,freqs=frqs,t_interval=t_interval,n_cycles= n_cycles,cl_level=cl_level)\n",
    "        topo_gen.generate_topos(path,cmap=\"Reds\")\n",
    "            \n",
    "\n",
    "\n",
    "if __name__==\"__main__\":\n",
    "    p1= Process(target=generation_process,args=(1,2))\n",
    "    p2= Process(target=generation_process,args=(2,3))\n",
    "    p3= Process(target=generation_process,args=(3,4))\n",
    "    p4= Process(target=generation_process,args=(4,5))\n",
    "    p5= Process(target=generation_process,args=(5,6))\n",
    "    \n",
    "    p6 = Process(target=generation_process,args=(6,7))\n",
    "    p7 = Process(target=generation_process,args=(7,8))\n",
    "    p8 = Process(target=generation_process,args=(8,9))\n",
    "    p9 = Process(target=generation_process,args=(9,10))\n",
    "    p10 = Process(target=generation_process,args=(10,12))\n",
    "    p1.start()\n",
    "    p2.start()\n",
    "    p3.start()\n",
    "    p4.start()\n",
    "    p5.start()\n",
    "    p6.start()\n",
    "    p7.start()\n",
    "    p8.start()\n",
    "    p9.start()\n",
    "    p10.start()\n",
    "   \n",
    "    p1.join()\n",
    "    p2.join()\n",
    "    p3.join()\n",
    "    p4.join()\n",
    "    p5.join()\n",
    "    p6.join()\n",
    "    p7.join()\n",
    "    p8.join()\n",
    "    p9.join()\n",
    "    p10.join()\n",
    "    \n",
    "    print(\"Done\")\n",
    "    "
   ]
  },
  {
   "cell_type": "code",
   "execution_count": 48,
   "metadata": {},
   "outputs": [
    {
     "name": "stderr",
     "output_type": "stream",
     "text": [
      "100%|████████████████████████████████████████████| 1/1 [02:06<00:00, 126.50s/it]\n",
      "100%|████████████████████████████████████████████| 1/1 [02:07<00:00, 127.84s/it]\n",
      "100%|████████████████████████████████████████████| 1/1 [02:09<00:00, 129.42s/it]\n",
      "100%|████████████████████████████████████████████| 1/1 [02:09<00:00, 129.62s/it]\n",
      "100%|████████████████████████████████████████████| 1/1 [02:09<00:00, 129.41s/it]\n",
      "100%|████████████████████████████████████████████| 1/1 [02:10<00:00, 130.13s/it]\n",
      "100%|████████████████████████████████████████████| 1/1 [02:10<00:00, 130.45s/it]\n",
      "100%|████████████████████████████████████████████| 1/1 [02:10<00:00, 130.55s/it]\n",
      "100%|████████████████████████████████████████████| 1/1 [02:11<00:00, 131.62s/it]\n",
      "100%|█████████████████████████████████████████████| 2/2 [02:58<00:00, 89.16s/it]\n"
     ]
    },
    {
     "name": "stdout",
     "output_type": "stream",
     "text": [
      "Done\n"
     ]
    }
   ],
   "source": [
    "ffrqs = np.arange (13,30)\n",
    "n_cycles = (1/3)*frqs\n",
    "cl_level = 4\n",
    "path = \"/media/kashraf/Elements/Dissertation/data/preprocessed/audio/beta/\"\n",
    "def generation_process(start,end):\n",
    "    for sub in tqdm(range(start,end)):\n",
    "        topo_gen = topo_generator(subject=sub,freqs=frqs,t_interval=t_interval,n_cycles= n_cycles,cl_level=cl_level)\n",
    "        topo_gen.generate_topos(path,cmap=\"Reds\")\n",
    "            \n",
    "\n",
    "\n",
    "if __name__==\"__main__\":\n",
    "    p1= Process(target=generation_process,args=(1,2))\n",
    "    p2= Process(target=generation_process,args=(2,3))\n",
    "    p3= Process(target=generation_process,args=(3,4))\n",
    "    p4= Process(target=generation_process,args=(4,5))\n",
    "    p5= Process(target=generation_process,args=(5,6))\n",
    "    \n",
    "    p6 = Process(target=generation_process,args=(6,7))\n",
    "    p7 = Process(target=generation_process,args=(7,8))\n",
    "    p8 = Process(target=generation_process,args=(8,9))\n",
    "    p9 = Process(target=generation_process,args=(9,10))\n",
    "    p10 = Process(target=generation_process,args=(10,12))\n",
    "    p1.start()\n",
    "    p2.start()\n",
    "    p3.start()\n",
    "    p4.start()\n",
    "    p5.start()\n",
    "    p6.start()\n",
    "    p7.start()\n",
    "    p8.start()\n",
    "    p9.start()\n",
    "    p10.start()\n",
    "   \n",
    "    p1.join()\n",
    "    p2.join()\n",
    "    p3.join()\n",
    "    p4.join()\n",
    "    p5.join()\n",
    "    p6.join()\n",
    "    p7.join()\n",
    "    p8.join()\n",
    "    p9.join()\n",
    "    p10.join()\n",
    "    \n",
    "    print(\"Done\")\n",
    "    "
   ]
  },
  {
   "cell_type": "code",
   "execution_count": 49,
   "metadata": {},
   "outputs": [
    {
     "name": "stderr",
     "output_type": "stream",
     "text": [
      "100%|████████████████████████████████████████████| 1/1 [02:02<00:00, 122.33s/it]\n",
      "100%|████████████████████████████████████████████| 1/1 [02:02<00:00, 122.82s/it]\n",
      "100%|████████████████████████████████████████████| 1/1 [02:03<00:00, 123.29s/it]\n",
      "100%|████████████████████████████████████████████| 1/1 [02:03<00:00, 123.91s/it]\n",
      "100%|████████████████████████████████████████████| 1/1 [02:04<00:00, 124.09s/it]\n",
      "100%|████████████████████████████████████████████| 1/1 [02:05<00:00, 125.12s/it]\n",
      "100%|████████████████████████████████████████████| 1/1 [02:05<00:00, 125.33s/it]\n",
      "100%|████████████████████████████████████████████| 1/1 [02:05<00:00, 125.79s/it]\n",
      "100%|████████████████████████████████████████████| 1/1 [02:06<00:00, 126.07s/it]\n",
      "100%|█████████████████████████████████████████████| 2/2 [02:54<00:00, 87.01s/it]\n"
     ]
    },
    {
     "name": "stdout",
     "output_type": "stream",
     "text": [
      "Done\n"
     ]
    }
   ],
   "source": [
    "frqs = np.arange (13,30)\n",
    "n_cycles = (1/3)*frqs\n",
    "cl_level = 6\n",
    "path = \"/media/kashraf/Elements/Dissertation/data/preprocessed/audio/beta/\"\n",
    "def generation_process(start,end):\n",
    "    for sub in tqdm(range(start,end)):\n",
    "        topo_gen = topo_generator(subject=sub,freqs=frqs,t_interval=t_interval,n_cycles= n_cycles,cl_level=cl_level)\n",
    "        topo_gen.generate_topos(path,cmap=\"Reds\")\n",
    "            \n",
    "\n",
    "\n",
    "if __name__==\"__main__\":\n",
    "    p1= Process(target=generation_process,args=(1,2))\n",
    "    p2= Process(target=generation_process,args=(2,3))\n",
    "    p3= Process(target=generation_process,args=(3,4))\n",
    "    p4= Process(target=generation_process,args=(4,5))\n",
    "    p5= Process(target=generation_process,args=(5,6))\n",
    "    \n",
    "    p6 = Process(target=generation_process,args=(6,7))\n",
    "    p7 = Process(target=generation_process,args=(7,8))\n",
    "    p8 = Process(target=generation_process,args=(8,9))\n",
    "    p9 = Process(target=generation_process,args=(9,10))\n",
    "    p10 = Process(target=generation_process,args=(10,12))\n",
    "    p1.start()\n",
    "    p2.start()\n",
    "    p3.start()\n",
    "    p4.start()\n",
    "    p5.start()\n",
    "    p6.start()\n",
    "    p7.start()\n",
    "    p8.start()\n",
    "    p9.start()\n",
    "    p10.start()\n",
    "   \n",
    "    p1.join()\n",
    "    p2.join()\n",
    "    p3.join()\n",
    "    p4.join()\n",
    "    p5.join()\n",
    "    p6.join()\n",
    "    p7.join()\n",
    "    p8.join()\n",
    "    p9.join()\n",
    "    p10.join()\n",
    "    \n",
    "    print(\"Done\")\n",
    "    "
   ]
  },
  {
   "cell_type": "code",
   "execution_count": 50,
   "metadata": {},
   "outputs": [
    {
     "name": "stderr",
     "output_type": "stream",
     "text": [
      "100%|████████████████████████████████████████████| 1/1 [02:03<00:00, 123.13s/it]\n",
      "100%|████████████████████████████████████████████| 1/1 [02:03<00:00, 123.44s/it]\n",
      "100%|████████████████████████████████████████████| 1/1 [02:04<00:00, 124.08s/it]\n",
      "100%|████████████████████████████████████████████| 1/1 [02:04<00:00, 124.75s/it]\n",
      "100%|████████████████████████████████████████████| 1/1 [02:05<00:00, 125.50s/it]\n",
      "100%|████████████████████████████████████████████| 1/1 [02:05<00:00, 125.45s/it]\n",
      "100%|████████████████████████████████████████████| 1/1 [02:05<00:00, 125.71s/it]\n",
      "100%|████████████████████████████████████████████| 1/1 [02:06<00:00, 126.06s/it]\n",
      "100%|████████████████████████████████████████████| 1/1 [02:06<00:00, 126.71s/it]\n",
      "100%|█████████████████████████████████████████████| 2/2 [02:53<00:00, 86.67s/it]\n"
     ]
    },
    {
     "name": "stdout",
     "output_type": "stream",
     "text": [
      "Done\n"
     ]
    }
   ],
   "source": [
    "frqs = np.arange (13,30)\n",
    "n_cycles = (1/3)*frqs\n",
    "cl_level = 8\n",
    "path = \"/media/kashraf/Elements/Dissertation/data/preprocessed/audio/beta/\"\n",
    "def generation_process(start,end):\n",
    "    for sub in tqdm(range(start,end)):\n",
    "        topo_gen = topo_generator(subject=sub,freqs=frqs,t_interval=t_interval,n_cycles= n_cycles,cl_level=cl_level)\n",
    "        topo_gen.generate_topos(path,cmap=\"Reds\")\n",
    "            \n",
    "\n",
    "\n",
    "if __name__==\"__main__\":\n",
    "    p1= Process(target=generation_process,args=(1,2))\n",
    "    p2= Process(target=generation_process,args=(2,3))\n",
    "    p3= Process(target=generation_process,args=(3,4))\n",
    "    p4= Process(target=generation_process,args=(4,5))\n",
    "    p5= Process(target=generation_process,args=(5,6))\n",
    "    \n",
    "    p6 = Process(target=generation_process,args=(6,7))\n",
    "    p7 = Process(target=generation_process,args=(7,8))\n",
    "    p8 = Process(target=generation_process,args=(8,9))\n",
    "    p9 = Process(target=generation_process,args=(9,10))\n",
    "    p10 = Process(target=generation_process,args=(10,12))\n",
    "    p1.start()\n",
    "    p2.start()\n",
    "    p3.start()\n",
    "    p4.start()\n",
    "    p5.start()\n",
    "    p6.start()\n",
    "    p7.start()\n",
    "    p8.start()\n",
    "    p9.start()\n",
    "    p10.start()\n",
    "   \n",
    "    p1.join()\n",
    "    p2.join()\n",
    "    p3.join()\n",
    "    p4.join()\n",
    "    p5.join()\n",
    "    p6.join()\n",
    "    p7.join()\n",
    "    p8.join()\n",
    "    p9.join()\n",
    "    p10.join()\n",
    "    \n",
    "    print(\"Done\")\n",
    "    "
   ]
  }
 ],
 "metadata": {
  "kernelspec": {
   "display_name": "Python 3 (ipykernel)",
   "language": "python",
   "name": "python3"
  },
  "language_info": {
   "codemirror_mode": {
    "name": "ipython",
    "version": 3
   },
   "file_extension": ".py",
   "mimetype": "text/x-python",
   "name": "python",
   "nbconvert_exporter": "python",
   "pygments_lexer": "ipython3",
   "version": "3.8.10"
  }
 },
 "nbformat": 4,
 "nbformat_minor": 2
}
