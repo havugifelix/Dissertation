{
 "cells": [
  {
   "cell_type": "code",
   "execution_count": 2,
   "id": "6f5fe5b5",
   "metadata": {},
   "outputs": [
    {
     "data": {
      "text/plain": [
       "<RawCNT  |  S02_v Data.cnt, n_channels x n_times : 64 x 525925 (2103.7 sec), ~277.0 MB, data loaded>"
      ]
     },
     "execution_count": 2,
     "metadata": {},
     "output_type": "execute_result"
    }
   ],
   "source": [
    "import mne\n",
    "import os\n",
    "import pywt\n",
    "from skimage.restoration import denoise_wavelet\n",
    "import warnings\n",
    "warnings.filterwarnings('ignore')\n",
    "from os.path import abspath\n",
    "import matplotlib.pyplot as plt\n",
    "import numpy as np\n",
    "import pandas as pd\n",
    "from mne.time_frequency import psd_welch\n",
    "from tqdm import tqdm\n",
    "import itertools\n",
    "import pickle \n",
    "from multiprocessing import Process\n",
    "file_path=\"/media/kashraf/Elements/Dissertation/data/CVPIA_eeg/Data/Filtered/S2/\"\n",
    "filename=os.listdir(file_path)\n",
    "path_montage=\"/media/kashraf/Elements/data_gen_may_2021/montage/\"\n",
    "montage=mne.channels.read_montage(path_montage+\"//\"+\"neuroscan64ch.loc\")\n",
    "data1=mne.io.read_raw_cnt(file_path+\"S02_v Data.cnt\",montage=montage, \n",
    "                         preload=True,verbose=False);\n",
    "\n",
    "good_ch= mne.pick_channels(data1.info['ch_names'], include=[],\n",
    "                        exclude=[\"EKG\",\"EMG\",'VEO','HEO','Trigger'])\n",
    "mne.pick_info(data1.info,sel=good_ch,copy=False,verbose=False)\n",
    "data1.set_montage(montage)\n",
    "mne.pick_info(data1.info,sel=good_ch,copy=False)\n",
    "data1.set_montage(montage)"
   ]
  },
  {
   "cell_type": "code",
   "execution_count": 3,
   "id": "35d3bd06",
   "metadata": {},
   "outputs": [],
   "source": [
    "def read_load_type(data_path,dest_path=None,stim_type=None):\n",
    "    folders = os.listdir(data_path)\n",
    "    audio,visual, audio_visual = [],[],[]\n",
    "    for folder in folders: \n",
    "        fnames = os.listdir(os.path.join(data_path,folder))\n",
    "        # Let's go through the folders\n",
    "        for f in fnames:\n",
    "            if f.endswith(\"a Data.cnt\"):\n",
    "                audio.append(os.path.join(data_path,folder,f))\n",
    "            elif f.endswith(\"av Data.cnt\"):\n",
    "                audio_visual.append(os.path.join(data_path,folder,f))\n",
    "                \n",
    "            elif f.endswith(\"v Data.cnt\"):\n",
    "                visual.append(os.path.join(data_path,folder,f))\n",
    "    return audio,audio_visual,visual\n",
    "                \n",
    "                \n",
    "path = \"/media/kashraf/Elements/Dissertation/data/CVPIA_eeg/Data/Filtered\"\n",
    "a,av,v=read_load_type(path)"
   ]
  }
 ],
 "metadata": {
  "kernelspec": {
   "display_name": "Python 3 (ipykernel)",
   "language": "python",
   "name": "python3"
  },
  "language_info": {
   "codemirror_mode": {
    "name": "ipython",
    "version": 3
   },
   "file_extension": ".py",
   "mimetype": "text/x-python",
   "name": "python",
   "nbconvert_exporter": "python",
   "pygments_lexer": "ipython3",
   "version": "3.9.12"
  }
 },
 "nbformat": 4,
 "nbformat_minor": 5
}
