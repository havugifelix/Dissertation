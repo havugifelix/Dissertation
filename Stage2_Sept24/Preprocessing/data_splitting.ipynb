{
 "cells": [
  {
   "cell_type": "code",
   "execution_count": 1,
   "metadata": {},
   "outputs": [],
   "source": [
    "from shutil import copy2\n",
    "from sklearn.model_selection import train_test_split\n",
    "import os\n",
    "import numpy as np\n",
    "import cv2\n",
    "from tqdm import tqdm\n",
    "from multiprocessing import Process"
   ]
  },
  {
   "cell_type": "code",
   "execution_count": 2,
   "metadata": {},
   "outputs": [],
   "source": [
    "# path= \"/media/kashraf/Elements/Dissertation/data/preprocessed/visual/single_trial/S-G_denoised/npy+topo/encoding/topomaps/TOPO-GAN/beta/cl8\"\n",
    "# fnames = os.listdir(path)\n",
    "# for file in tqdm(fnames):\n",
    "#     path1= os.path.join(path,file)\n",
    "#     path2= os.path.join(path,\"GAN_\"+file)\n",
    "#     os.rename(path1,path2)"
   ]
  },
  {
   "cell_type": "code",
   "execution_count": 2,
   "metadata": {},
   "outputs": [],
   "source": [
    "import os\n",
    "import numpy as np\n",
    "from sklearn.model_selection import train_test_split\n",
    "from shutil import copy2\n",
    "from multiprocessing import Pool\n",
    "from tqdm import tqdm\n",
    "\n",
    "def copy_file(args):\n",
    "    src, dst = args\n",
    "    copy2(src, dst)\n",
    "\n",
    "def split(path, train_path, test_path, cl_level):\n",
    "    fnames = os.listdir(os.path.join(path, cl_level))\n",
    "    \n",
    "    # Split file names directly instead of using indices\n",
    "    f_train, f_test = train_test_split(fnames, test_size=0.3)\n",
    "#     print(len(f_train))\n",
    "\n",
    "    # Prepare arguments for multiprocessing\n",
    "    train_args = [(os.path.join(path, cl_level, file), os.path.join(train_path, cl_level, file)) for file in f_train]\n",
    "    test_args = [(os.path.join(path, cl_level, file), os.path.join(test_path, cl_level, file)) for file in f_test]\n",
    "\n",
    "    # Use a pool of workers to copy files in parallel\n",
    "    with Pool() as pool:\n",
    "        list(tqdm(pool.imap(copy_file, train_args), total=len(train_args)))\n",
    "        list(tqdm(pool.imap(copy_file, test_args), total=len(test_args)))"
   ]
  },
  {
   "cell_type": "code",
   "execution_count": 4,
   "metadata": {},
   "outputs": [
    {
     "name": "stderr",
     "output_type": "stream",
     "text": [
      "100%|█████████████████████████████████████████████████████████████████████████████| 10500/10500 [06:27<00:00, 27.08it/s]\n",
      "100%|███████████████████████████████████████████████████████████████████████████████| 4500/4500 [02:50<00:00, 26.41it/s]\n",
      "100%|███████████████████████████████████████████████████████████████████████████| 10500/10500 [00:08<00:00, 1257.48it/s]\n",
      "100%|█████████████████████████████████████████████████████████████████████████████| 4500/4500 [00:03<00:00, 1276.35it/s]\n",
      "100%|████████████████████████████████████████████████████████████████████████████| 10500/10500 [00:12<00:00, 856.12it/s]\n",
      "100%|██████████████████████████████████████████████████████████████████████████████| 4500/4500 [00:05<00:00, 889.34it/s]\n",
      "100%|███████████████████████████████████████████████████████████████████████████| 10500/10500 [00:10<00:00, 1040.68it/s]\n",
      "100%|█████████████████████████████████████████████████████████████████████████████| 4500/4500 [00:03<00:00, 1189.08it/s]\n"
     ]
    }
   ],
   "source": [
    "data_path =\"/media/kashraf/TOSHIBA EXT/Dissertation/stage2/wavelet/Mean_power_wt/Beta/full/\"\n",
    "dest_train_path=\"/media/kashraf/TOSHIBA EXT/Dissertation/stage2/wavelet/Mean_power_wt/Beta/train/\"\n",
    "dest_test_path= \"/media/kashraf/TOSHIBA EXT/Dissertation/stage2/wavelet/Mean_power_wt/Beta/test/\"\n",
    "\n",
    "split(data_path,dest_train_path,dest_test_path,\"cl2\")\n",
    "split(data_path,dest_train_path,dest_test_path,\"cl4\")\n",
    "split(data_path,dest_train_path,dest_test_path,\"cl6\")\n",
    "split(data_path,dest_train_path,dest_test_path,\"cl8\")"
   ]
  },
  {
   "cell_type": "code",
   "execution_count": null,
   "metadata": {},
   "outputs": [],
   "source": [
    "import os\n",
    "import random\n",
    "from shutil import copy2\n",
    "from multiprocessing import Pool\n",
    "\n",
    "# Function to copy a single file\n",
    "def copy_file(args):\n",
    "    path, dest, cl_level, file = args\n",
    "    copy2(os.path.join(path, cl_level, file), os.path.join(dest, cl_level))\n",
    "\n",
    "def copying(path_origin, dest_path, cl_level):\n",
    "    fnames = os.listdir(os.path.join(path_origin, cl_level))\n",
    "    random.shuffle(fnames)\n",
    "#     fnames = fnames[:5250]\n",
    "\n",
    "    # Create a list of arguments for each file to be copied\n",
    "    args_list = [(path_origin, dest_path, cl_level, file) for file in fnames]\n",
    "\n",
    "    # Number of workers in the pool\n",
    "    num_workers = 4  # Adjust this number based on your machine's capabilities\n",
    "\n",
    "    # Create a pool and parallelize the copying\n",
    "    with Pool(num_workers) as pool:\n",
    "        list(tqdm(pool.imap_unordered(copy_file, args_list), total=len(args_list)))\n",
    "\n",
    "# Example usage\n",
    "# copying('/path/to/source', '/path/to/destination', 'class_level')\n",
    "\n",
    "        \n",
    "path= \"/media/kashraf/TOSHIBA EXT/Journal_2023/Data/Visual/Topomaps/stack/full-gan\"\n",
    "dest = \"/media/kashraf/TOSHIBA EXT/Journal_2023/Data/Visual/Topomaps/stack/train-70+GAN\"\n",
    "copying(path,dest,\"cl2\")\n",
    "copying(path,dest,\"cl4\")\n",
    "copying(path,dest,\"cl6\")\n",
    "copying(path,dest,\"cl8\")"
   ]
  },
  {
   "cell_type": "code",
   "execution_count": null,
   "metadata": {},
   "outputs": [],
   "source": [
    "len(os.listdir(dest+\"cl4\"))"
   ]
  },
  {
   "cell_type": "code",
   "execution_count": null,
   "metadata": {},
   "outputs": [],
   "source": [
    "def data_copy(train_path=None,test_path=None,train_dest=None,test_dest=None,cl_level=None):\n",
    "    f_train=os.listdir(os.path.join(train_path,cl_level))\n",
    "    f_test=os.listdir(os.path.join(test_path,cl_level))\n",
    "\n",
    "    for file in tqdm(f_train):\n",
    "        copy2(os.path.join(train_path,cl_level,file),train_dest+\"/\"+cl_level+\"/\")\n",
    "    for file in tqdm(f_test):\n",
    "        copy2(os.path.join(test_path,cl_level,file),test_dest+\"/\"+cl_level+\"/\")"
   ]
  },
  {
   "cell_type": "code",
   "execution_count": null,
   "metadata": {},
   "outputs": [],
   "source": [
    "def data_rename (path):\n",
    "#     for filename2 in os.listdir(os.path.join(path,\"cl2\")):\n",
    "#         my_source = os.path.join(path,\"cl2\",filename2)\n",
    "#         my_dest =  os.path.join(path,\"cl2\",\"erp_\"+filename2)\n",
    "#         os.rename(my_source, my_dest)\n",
    "        \n",
    "#     for filename2 in os.listdir(os.path.join(path,\"cl4\")):\n",
    "#         my_source = os.path.join(path,\"cl4\",filename2)\n",
    "#         my_dest =  os.path.join(path,\"cl4\",\"erp_\"+filename2)\n",
    "#         os.rename(my_source, my_dest)\n",
    "        \n",
    "    for filename2 in os.listdir(os.path.join(path,\"cl6\")):\n",
    "        my_source = os.path.join(path,\"cl6\",filename2)\n",
    "        my_dest =  os.path.join(path,\"cl6\",\"erp_\"+filename2)\n",
    "        os.rename(my_source, my_dest)\n",
    "        \n",
    "        \n",
    "        \n",
    "#     for filename2 in os.listdir(os.path.join(path,\"cl8\")):\n",
    "#         my_source = os.path.join(path,\"cl8\",filename2)\n",
    "#         my_dest =  os.path.join(path,\"cl8\",\"erp_\"+filename2)\n",
    "#         os.rename(my_source, my_dest)\n",
    "train_path= \"/media/kashraf/Elements/Dissertation/data/preprocessed/audio/erps+single_trial/interv7/train/\"\n",
    "data_rename (train_path)"
   ]
  },
  {
   "cell_type": "markdown",
   "metadata": {},
   "source": [
    "## Copying\n"
   ]
  },
  {
   "cell_type": "code",
   "execution_count": null,
   "metadata": {},
   "outputs": [],
   "source": [
    "train_path= \"/media/kashraf/Elements/Dissertation/data/preprocessed/audio/single_trial/stack/interv7/train\"\n",
    "test_path = \"/media/kashraf/Elements/Dissertation/data/preprocessed/audio/single_trial/stack/interv7/test\"\n",
    "dest_train = \"/media/kashraf/Elements/Dissertation/data/preprocessed/audio/erps+single_trial/interv7/train\"\n",
    "dest_test_path= \"/media/kashraf/Elements/Dissertation/data/preprocessed/audio/erps+single_trial/interv7/test\"\n",
    "\n",
    "data_copy(train_path,test_path,dest_train,dest_test_path, cl_level=\"cl2\")\n",
    "data_copy(train_path,test_path,dest_train,dest_test_path,cl_level=\"cl4\")\n",
    "data_copy(train_path,test_path,dest_train,dest_test_path,cl_level=\"cl6\")\n",
    "data_copy(train_path,test_path,dest_train,dest_test_path,cl_level=\"cl8\")"
   ]
  },
  {
   "cell_type": "code",
   "execution_count": null,
   "metadata": {},
   "outputs": [],
   "source": [
    "def generation_process(train_path=None,train_dest=None,cl_level=None):\n",
    "    data_copy(train_path,train_dest,cl_level)\n",
    "\n",
    "if __name__==\"__main__\":\n",
    "    p1= Process(target=generation_process,args=(train_path, dest_train,\"cl2\"))\n",
    "    p2= Process(target=generation_process,args=(train_path, dest_train,\"cl4\"))\n",
    "    p3= Process(target=generation_process,args=(train_path, dest_train,\"cl6\"))\n",
    "    p4= Process(target=generation_process,args=(train_path, dest_train,\"cl8\"))\n",
    "    \n",
    "    p1.start()\n",
    "    p2.start()\n",
    "    p3.start()\n",
    "    p4.start()"
   ]
  },
  {
   "cell_type": "code",
   "execution_count": null,
   "metadata": {},
   "outputs": [],
   "source": [
    "split(data_path,dest_train_path,dest_test_path,\"cl2\")\n",
    "split(data_path,dest_train_path,dest_test_path,\"cl4\")\n",
    "split(data_path,dest_train_path,dest_test_path,\"cl6\")\n",
    "split(data_path,dest_train_path,dest_test_path,\"cl8\")"
   ]
  },
  {
   "cell_type": "code",
   "execution_count": null,
   "metadata": {},
   "outputs": [],
   "source": [
    "\n",
    "def gen_interv_data(cl_level):\n",
    "    for i in tqdm(range(1,8)):\n",
    "        path = os.path.join(data_path,\"interv_\"+str(i),\"full\")\n",
    "        \n",
    "#     print(os.path.join(path,cl_level))\n",
    "        train_path = os.path.join(data_path,\"interv_\"+str(i),\"train\")\n",
    "        print(train_path)\n",
    "        test_path  = os.path.join(data_path,\"interv_\"+str(i),\"test\")\n",
    "        split(path,train_path,test_path,cl_level)\n",
    "        \n",
    "gen_interv_data(\"cl2\")\n",
    "gen_interv_data(\"cl4\")\n",
    "gen_interv_data(\"cl6\")\n",
    "gen_interv_data(\"cl8\")\n",
    "\n",
    "\n",
    "    "
   ]
  },
  {
   "cell_type": "code",
   "execution_count": null,
   "metadata": {},
   "outputs": [],
   "source": [
    "split(data_path,dest_train_path,dest_test_path,\"cl2\")\n",
    "split(data_path,dest_train_path,dest_test_path,\"cl4\")\n",
    "split(data_path,dest_train_path,dest_test_path,\"cl6\")\n",
    "split(data_path,dest_train_path,dest_test_path,\"cl8\")"
   ]
  },
  {
   "cell_type": "markdown",
   "metadata": {},
   "source": [
    "### Copying files"
   ]
  },
  {
   "cell_type": "code",
   "execution_count": null,
   "metadata": {},
   "outputs": [],
   "source": [
    "origin_path= \"/media/kashraf/Elements/Dissertation/data/preprocessed/visual/interval_topos/beta/all_intervals/test/\"\n",
    "dest_path=\"/media/kashraf/Elements/Dissertation/data/preprocessed/visual/interval_topos/beta/all_intervals/test_png/\"\n",
    "\n",
    "def copy(path_orgin,dest_path,cl_level):\n",
    "    fnames=os.listdir(path_orgin+cl_level)\n",
    "    for file in tqdm(fnames):\n",
    "        copy2(origin_path+cl_level+\"/\"+file,dest_path+cl_level)\n",
    "copy(origin_path,dest_path,\"cl2\")\n",
    "    "
   ]
  }
 ],
 "metadata": {
  "kernelspec": {
   "display_name": "Python 3 (ipykernel)",
   "language": "python",
   "name": "python3"
  },
  "language_info": {
   "codemirror_mode": {
    "name": "ipython",
    "version": 3
   },
   "file_extension": ".py",
   "mimetype": "text/x-python",
   "name": "python",
   "nbconvert_exporter": "python",
   "pygments_lexer": "ipython3",
   "version": "3.9.12"
  }
 },
 "nbformat": 4,
 "nbformat_minor": 2
}
