{
 "cells": [
  {
   "cell_type": "code",
   "execution_count": null,
   "id": "b18bc0e6",
   "metadata": {},
   "outputs": [],
   "source": [
    "import numpy as np\n",
    "import os\n",
    "from tensorflow.keras.utils import to_categorical\n",
    "\n",
    "class NpyDataGenerator:\n",
    "    def __init__(self, npy_dir, batch_size, shuffle=True):\n",
    "        self.npy_dir = npy_dir\n",
    "        self.batch_size = batch_size\n",
    "        self.shuffle = shuffle\n",
    "        self.class_names = sorted(os.listdir(npy_dir)) # get the list of subdirectories in the npy_dir as class names\n",
    "        self.num_classes = len(self.class_names) # count the number of classes\n",
    "        self.class_indices = dict(zip(self.class_names, range(self.num_classes))) # create a dictionary mapping class names to class indices\n",
    "        self.npy_files = [] # create an empty list for storing the npy files\n",
    "        for class_name in self.class_names:\n",
    "            class_dir = os.path.join(npy_dir, class_name) # get the path to the subdirectory for this class\n",
    "            class_files = os.listdir(class_dir) # get the list of npy files in this subdirectory\n",
    "            for npy_file in class_files:\n",
    "                self.npy_files.append((os.path.join(class_dir, npy_file), class_name)) # append a tuple containing the path to the npy file and its corresponding class name\n",
    "        self.num_samples = len(self.npy_files) # count the number of samples\n",
    "        self.indices = np.arange(self.num_samples) # create an array of indices for shuffling\n",
    "        self.on_epoch_end() # shuffle the indices\n",
    "\n",
    "    def __len__(self):\n",
    "        return int(np.ceil(self.num_samples / self.batch_size)) # calculate the number of batches per epoch\n",
    "\n",
    "    def __getitem__(self, index):\n",
    "        batch_indices = self.indices[index * self.batch_size:(index + 1) * self.batch_size] # get the indices for the current batch\n",
    "        batch_npy_files = [self.npy_files[k] for k in batch_indices] # get the filenames for the current batch\n",
    "        batch_x = [] # create an empty list for the input data\n",
    "        batch_y = [] # create an empty list for the target data\n",
    "        for npy_file, class_name in batch_npy_files:\n",
    "            npy_data = np.load(npy_file) # load the npy file\n",
    "            x = npy_data[..., :-1]  # extract the input data from the npy file\n",
    "            y = self.class_indices[class_name] # get the class index for the current sample\n",
    "            batch_x.append(x) # add the input data to the current batch\n",
    "            batch_y.append(y) # add the class index to the current batch\n",
    "        batch_y = to_categorical(batch_y, num_classes=self.num_classes) # one-hot encode the class indices\n",
    "        return np.array(batch_x), np.array(batch_y) # return the batch as a tuple of input and target data\n",
    "\n",
    "    def on_epoch_end(self):\n",
    "        if self.shuffle:\n",
    "            np.random.shuffle(self.indices) # shuffle the indices at the end of each epoch to randomize the order of samples\n"
   ]
  }
 ],
 "metadata": {
  "kernelspec": {
   "display_name": "Python 3 (ipykernel)",
   "language": "python",
   "name": "python3"
  },
  "language_info": {
   "codemirror_mode": {
    "name": "ipython",
    "version": 3
   },
   "file_extension": ".py",
   "mimetype": "text/x-python",
   "name": "python",
   "nbconvert_exporter": "python",
   "pygments_lexer": "ipython3",
   "version": "3.8.13"
  }
 },
 "nbformat": 4,
 "nbformat_minor": 5
}
